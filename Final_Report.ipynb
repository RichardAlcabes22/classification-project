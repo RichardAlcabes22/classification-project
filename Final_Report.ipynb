{
 "cells": [
  {
   "cell_type": "markdown",
   "id": "7fc6a69d",
   "metadata": {},
   "source": [
    "## TELCO CHURN INITIAL EXPLORATORY ANALYSIS"
   ]
  },
  {
   "cell_type": "markdown",
   "id": "f9b37652",
   "metadata": {},
   "source": [
    "#### WORKING PREMISE:\n",
    "\n",
    "**While each customer will have their own particular reason for parting ways with Telco, the two ingredients needed for customer churn are:**\n",
    "1. Low or No \"Perception of Commitment\" to Telco.\n",
    "2. Minimal Switching Costs associated with leaving Telco.\n",
    "\n",
    "#### The goals of this initial exploration are as follows:\n",
    "- Discover the \"Driving Factors\" which contribute most to customer churn.\n",
    "- Discover the customer segment which is most likely to churn.\n",
    "- Discover the customer segment which is most responsible for revenue.\n",
    "- Identify those customers who exhibit the characteristics of said target customer segment.\n",
    "- Create a Machine Learning Model which can accurately predict customer churn more accurately than baseline.\n"
   ]
  },
  {
   "cell_type": "code",
   "execution_count": 1,
   "id": "5f3456d1",
   "metadata": {},
   "outputs": [],
   "source": [
    "# DS Libraries\n",
    "import pandas as pd\n",
    "import numpy as np\n",
    "from scipy import stats\n",
    "\n",
    "# Data Acquisition\n",
    "from pydataset import data\n",
    "import env\n",
    "import acquire as acq\n",
    "import prepare as prp\n",
    "\n",
    "# Data visualization\n",
    "import matplotlib.pyplot as plt\n",
    "import seaborn as sns\n",
    "\n",
    "# scikit learn submodules\n",
    "from sklearn.tree import DecisionTreeClassifier, export_text, plot_tree\n",
    "from sklearn.ensemble import RandomForestClassifier\n",
    "from sklearn.model_selection import train_test_split\n",
    "from sklearn.metrics import classification_report, accuracy_score, confusion_matrix\n",
    "from sklearn.linear_model import LogisticRegression"
   ]
  },
  {
   "cell_type": "code",
   "execution_count": 2,
   "id": "dadecf49",
   "metadata": {},
   "outputs": [],
   "source": [
    "# Let's Acquire and Prepare the DataFrame\n",
    "# load telco via acquire.py (be sure to place acquire.py in same directory as this Notebook)\n",
    "df = acq.new_telco_data()"
   ]
  },
  {
   "cell_type": "code",
   "execution_count": 3,
   "id": "e4923fa6",
   "metadata": {},
   "outputs": [],
   "source": [
    "# Using the prep_telco function in prepare.py, we will drop unneeded coloumns and encode columns that \n",
    "# require encoding\n",
    "df = prp.prep_telco(df)"
   ]
  },
  {
   "cell_type": "markdown",
   "id": "33593ca7",
   "metadata": {},
   "source": [
    "#### Initial questions and hypothesis:\n",
    "#### What % of Telco Customers have No \"Perceived Commitment\" to Telco in combination with low \"Switching Costs\"?\n",
    "\n",
    "- Do customers with **\"Month-to-Month\"** contracts churn out at a statistically significant greater rate than the overall population?\n",
    "- Do customers with **\"Paperless Billing\"** enabled churn out at a statistically significant greater rate than the overall population?\n",
    "- Do customers **without \"Dependents\"** churn out at a statistically significant greater rate than the overall population?\n",
    "- Do customers **without \"Partners\"** churn out at a statistically significant greater rate than the overall population?\n",
    "- Do customers who comprise the largest customer segment churn out at a statistically significant greater rate than the overall population?\n",
    "\n",
    "#### HYPOTHESIS: Customers in this segmnent churn at greater rates than the overall Telco customer base"
   ]
  },
  {
   "cell_type": "markdown",
   "id": "bc3a71ce",
   "metadata": {},
   "source": []
  },
  {
   "cell_type": "code",
   "execution_count": 11,
   "id": "d06fc299",
   "metadata": {},
   "outputs": [
    {
     "data": {
      "text/plain": [
       "(3943, 1691, 1409)"
      ]
     },
     "execution_count": 11,
     "metadata": {},
     "output_type": "execute_result"
    }
   ],
   "source": [
    "# Using prepare.py, split the Dataset into TRAIN(.80), VALIDATE(.14), and TEST(.06) subsets:\n",
    "train, validate, test = prp.split_data(df,'churn')\n",
    "# quick check of the numbers for each should be 3943-1691-1409\n",
    "train.shape[0],validate.shape[0],test.shape[0]"
   ]
  },
  {
   "cell_type": "markdown",
   "id": "8d3ac5e4",
   "metadata": {},
   "source": []
  },
  {
   "cell_type": "code",
   "execution_count": null,
   "id": "c78119d3",
   "metadata": {},
   "outputs": [],
   "source": []
  },
  {
   "cell_type": "code",
   "execution_count": null,
   "id": "001c7b06",
   "metadata": {},
   "outputs": [],
   "source": []
  },
  {
   "cell_type": "code",
   "execution_count": null,
   "id": "a764946b",
   "metadata": {},
   "outputs": [],
   "source": []
  },
  {
   "cell_type": "code",
   "execution_count": null,
   "id": "62c81107",
   "metadata": {},
   "outputs": [],
   "source": []
  },
  {
   "cell_type": "code",
   "execution_count": null,
   "id": "83c2be7e",
   "metadata": {},
   "outputs": [],
   "source": []
  },
  {
   "cell_type": "code",
   "execution_count": null,
   "id": "d1c04305",
   "metadata": {},
   "outputs": [],
   "source": []
  },
  {
   "cell_type": "code",
   "execution_count": null,
   "id": "49b419b9",
   "metadata": {},
   "outputs": [],
   "source": []
  },
  {
   "cell_type": "code",
   "execution_count": null,
   "id": "9be8e490",
   "metadata": {},
   "outputs": [],
   "source": []
  },
  {
   "cell_type": "markdown",
   "id": "98a19767",
   "metadata": {},
   "source": []
  }
 ],
 "metadata": {
  "kernelspec": {
   "display_name": "Python 3 (ipykernel)",
   "language": "python",
   "name": "python3"
  },
  "language_info": {
   "codemirror_mode": {
    "name": "ipython",
    "version": 3
   },
   "file_extension": ".py",
   "mimetype": "text/x-python",
   "name": "python",
   "nbconvert_exporter": "python",
   "pygments_lexer": "ipython3",
   "version": "3.9.13"
  }
 },
 "nbformat": 4,
 "nbformat_minor": 5
}
