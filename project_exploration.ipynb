{
 "cells": [
  {
   "cell_type": "code",
   "execution_count": 1,
   "id": "46dd1cd7",
   "metadata": {},
   "outputs": [],
   "source": [
    "# DS Libraries\n",
    "import pandas as pd\n",
    "import numpy as np\n",
    "from scipy import stats\n",
    "# Data visualization\n",
    "import matplotlib.pyplot as plt\n",
    "import seaborn as sns\n",
    "\n",
    "# knn submodules from scikit learn\n",
    "from sklearn.model_selection import train_test_split\n",
    "from sklearn.neighbors import KNeighborsClassifier\n",
    "from sklearn.metrics import classification_report, confusion_matrix, plot_confusion_matrix\n",
    "from sklearn.linear_model import LogisticRegression\n",
    "\n",
    "# Data Acquisition\n",
    "from pydataset import data\n",
    "import env\n",
    "import acquire as acq\n",
    "import prepare as prp\n",
    "\n",
    "#Modeling\n",
    "from sklearn.tree import DecisionTreeClassifier,\\\n",
    "export_text, \\\n",
    "plot_tree\n",
    "from sklearn.metrics import accuracy_score, \\\n",
    "classification_report, \\\n",
    "confusion_matrix\n",
    "from sklearn.model_selection import train_test_split"
   ]
  },
  {
   "cell_type": "code",
   "execution_count": 2,
   "id": "81a4ed11",
   "metadata": {
    "scrolled": true
   },
   "outputs": [
    {
     "data": {
      "text/html": [
       "<div>\n",
       "<style scoped>\n",
       "    .dataframe tbody tr th:only-of-type {\n",
       "        vertical-align: middle;\n",
       "    }\n",
       "\n",
       "    .dataframe tbody tr th {\n",
       "        vertical-align: top;\n",
       "    }\n",
       "\n",
       "    .dataframe thead th {\n",
       "        text-align: right;\n",
       "    }\n",
       "</style>\n",
       "<table border=\"1\" class=\"dataframe\">\n",
       "  <thead>\n",
       "    <tr style=\"text-align: right;\">\n",
       "      <th></th>\n",
       "      <th>payment_type_id</th>\n",
       "      <th>internet_service_type_id</th>\n",
       "      <th>contract_type_id</th>\n",
       "      <th>customer_id</th>\n",
       "      <th>gender</th>\n",
       "      <th>senior_citizen</th>\n",
       "      <th>partner</th>\n",
       "      <th>dependents</th>\n",
       "      <th>tenure</th>\n",
       "      <th>phone_service</th>\n",
       "      <th>...</th>\n",
       "      <th>tech_support</th>\n",
       "      <th>streaming_tv</th>\n",
       "      <th>streaming_movies</th>\n",
       "      <th>paperless_billing</th>\n",
       "      <th>monthly_charges</th>\n",
       "      <th>total_charges</th>\n",
       "      <th>churn</th>\n",
       "      <th>contract_type</th>\n",
       "      <th>internet_service_type</th>\n",
       "      <th>payment_type</th>\n",
       "    </tr>\n",
       "  </thead>\n",
       "  <tbody>\n",
       "    <tr>\n",
       "      <th>0</th>\n",
       "      <td>3</td>\n",
       "      <td>1</td>\n",
       "      <td>3</td>\n",
       "      <td>2162-FRZAA</td>\n",
       "      <td>Male</td>\n",
       "      <td>0</td>\n",
       "      <td>Yes</td>\n",
       "      <td>Yes</td>\n",
       "      <td>63</td>\n",
       "      <td>No</td>\n",
       "      <td>...</td>\n",
       "      <td>Yes</td>\n",
       "      <td>No</td>\n",
       "      <td>No</td>\n",
       "      <td>No</td>\n",
       "      <td>39.35</td>\n",
       "      <td>2395.05</td>\n",
       "      <td>No</td>\n",
       "      <td>Two year</td>\n",
       "      <td>DSL</td>\n",
       "      <td>Bank transfer (automatic)</td>\n",
       "    </tr>\n",
       "    <tr>\n",
       "      <th>1</th>\n",
       "      <td>4</td>\n",
       "      <td>1</td>\n",
       "      <td>3</td>\n",
       "      <td>2160-GPFXD</td>\n",
       "      <td>Male</td>\n",
       "      <td>0</td>\n",
       "      <td>Yes</td>\n",
       "      <td>Yes</td>\n",
       "      <td>54</td>\n",
       "      <td>Yes</td>\n",
       "      <td>...</td>\n",
       "      <td>Yes</td>\n",
       "      <td>No</td>\n",
       "      <td>No</td>\n",
       "      <td>Yes</td>\n",
       "      <td>65.65</td>\n",
       "      <td>3566.7</td>\n",
       "      <td>No</td>\n",
       "      <td>Two year</td>\n",
       "      <td>DSL</td>\n",
       "      <td>Credit card (automatic)</td>\n",
       "    </tr>\n",
       "    <tr>\n",
       "      <th>2</th>\n",
       "      <td>2</td>\n",
       "      <td>1</td>\n",
       "      <td>2</td>\n",
       "      <td>2157-MXBJS</td>\n",
       "      <td>Male</td>\n",
       "      <td>0</td>\n",
       "      <td>Yes</td>\n",
       "      <td>No</td>\n",
       "      <td>13</td>\n",
       "      <td>Yes</td>\n",
       "      <td>...</td>\n",
       "      <td>No</td>\n",
       "      <td>Yes</td>\n",
       "      <td>Yes</td>\n",
       "      <td>Yes</td>\n",
       "      <td>75.30</td>\n",
       "      <td>989.45</td>\n",
       "      <td>Yes</td>\n",
       "      <td>One year</td>\n",
       "      <td>DSL</td>\n",
       "      <td>Mailed check</td>\n",
       "    </tr>\n",
       "    <tr>\n",
       "      <th>3</th>\n",
       "      <td>4</td>\n",
       "      <td>1</td>\n",
       "      <td>1</td>\n",
       "      <td>2155-AMQRX</td>\n",
       "      <td>Female</td>\n",
       "      <td>0</td>\n",
       "      <td>No</td>\n",
       "      <td>No</td>\n",
       "      <td>28</td>\n",
       "      <td>Yes</td>\n",
       "      <td>...</td>\n",
       "      <td>Yes</td>\n",
       "      <td>No</td>\n",
       "      <td>No</td>\n",
       "      <td>Yes</td>\n",
       "      <td>54.90</td>\n",
       "      <td>1505.15</td>\n",
       "      <td>No</td>\n",
       "      <td>Month-to-month</td>\n",
       "      <td>DSL</td>\n",
       "      <td>Credit card (automatic)</td>\n",
       "    </tr>\n",
       "    <tr>\n",
       "      <th>4</th>\n",
       "      <td>3</td>\n",
       "      <td>1</td>\n",
       "      <td>2</td>\n",
       "      <td>2150-WLKUW</td>\n",
       "      <td>Female</td>\n",
       "      <td>0</td>\n",
       "      <td>Yes</td>\n",
       "      <td>No</td>\n",
       "      <td>40</td>\n",
       "      <td>Yes</td>\n",
       "      <td>...</td>\n",
       "      <td>No</td>\n",
       "      <td>Yes</td>\n",
       "      <td>No</td>\n",
       "      <td>No</td>\n",
       "      <td>63.90</td>\n",
       "      <td>2635</td>\n",
       "      <td>No</td>\n",
       "      <td>One year</td>\n",
       "      <td>DSL</td>\n",
       "      <td>Bank transfer (automatic)</td>\n",
       "    </tr>\n",
       "  </tbody>\n",
       "</table>\n",
       "<p>5 rows × 24 columns</p>\n",
       "</div>"
      ],
      "text/plain": [
       "   payment_type_id  internet_service_type_id  contract_type_id customer_id  \\\n",
       "0                3                         1                 3  2162-FRZAA   \n",
       "1                4                         1                 3  2160-GPFXD   \n",
       "2                2                         1                 2  2157-MXBJS   \n",
       "3                4                         1                 1  2155-AMQRX   \n",
       "4                3                         1                 2  2150-WLKUW   \n",
       "\n",
       "   gender  senior_citizen partner dependents  tenure phone_service  ...  \\\n",
       "0    Male               0     Yes        Yes      63            No  ...   \n",
       "1    Male               0     Yes        Yes      54           Yes  ...   \n",
       "2    Male               0     Yes         No      13           Yes  ...   \n",
       "3  Female               0      No         No      28           Yes  ...   \n",
       "4  Female               0     Yes         No      40           Yes  ...   \n",
       "\n",
       "  tech_support streaming_tv streaming_movies paperless_billing  \\\n",
       "0          Yes           No               No                No   \n",
       "1          Yes           No               No               Yes   \n",
       "2           No          Yes              Yes               Yes   \n",
       "3          Yes           No               No               Yes   \n",
       "4           No          Yes               No                No   \n",
       "\n",
       "  monthly_charges total_charges churn   contract_type  internet_service_type  \\\n",
       "0           39.35       2395.05    No        Two year                    DSL   \n",
       "1           65.65        3566.7    No        Two year                    DSL   \n",
       "2           75.30        989.45   Yes        One year                    DSL   \n",
       "3           54.90       1505.15    No  Month-to-month                    DSL   \n",
       "4           63.90          2635    No        One year                    DSL   \n",
       "\n",
       "                payment_type  \n",
       "0  Bank transfer (automatic)  \n",
       "1    Credit card (automatic)  \n",
       "2               Mailed check  \n",
       "3    Credit card (automatic)  \n",
       "4  Bank transfer (automatic)  \n",
       "\n",
       "[5 rows x 24 columns]"
      ]
     },
     "execution_count": 2,
     "metadata": {},
     "output_type": "execute_result"
    }
   ],
   "source": [
    "# load telco via acquire.py\n",
    "df = acq.new_telco_data()\n",
    "df.head()"
   ]
  },
  {
   "cell_type": "code",
   "execution_count": 3,
   "id": "231ceca1",
   "metadata": {},
   "outputs": [
    {
     "name": "stdout",
     "output_type": "stream",
     "text": [
      "<class 'pandas.core.frame.DataFrame'>\n",
      "RangeIndex: 7043 entries, 0 to 7042\n",
      "Data columns (total 24 columns):\n",
      " #   Column                    Non-Null Count  Dtype  \n",
      "---  ------                    --------------  -----  \n",
      " 0   payment_type_id           7043 non-null   int64  \n",
      " 1   internet_service_type_id  7043 non-null   int64  \n",
      " 2   contract_type_id          7043 non-null   int64  \n",
      " 3   customer_id               7043 non-null   object \n",
      " 4   gender                    7043 non-null   object \n",
      " 5   senior_citizen            7043 non-null   int64  \n",
      " 6   partner                   7043 non-null   object \n",
      " 7   dependents                7043 non-null   object \n",
      " 8   tenure                    7043 non-null   int64  \n",
      " 9   phone_service             7043 non-null   object \n",
      " 10  multiple_lines            7043 non-null   object \n",
      " 11  online_security           7043 non-null   object \n",
      " 12  online_backup             7043 non-null   object \n",
      " 13  device_protection         7043 non-null   object \n",
      " 14  tech_support              7043 non-null   object \n",
      " 15  streaming_tv              7043 non-null   object \n",
      " 16  streaming_movies          7043 non-null   object \n",
      " 17  paperless_billing         7043 non-null   object \n",
      " 18  monthly_charges           7043 non-null   float64\n",
      " 19  total_charges             7043 non-null   object \n",
      " 20  churn                     7043 non-null   object \n",
      " 21  contract_type             7043 non-null   object \n",
      " 22  internet_service_type     7043 non-null   object \n",
      " 23  payment_type              7043 non-null   object \n",
      "dtypes: float64(1), int64(5), object(18)\n",
      "memory usage: 1.3+ MB\n"
     ]
    }
   ],
   "source": [
    "df.info()"
   ]
  },
  {
   "cell_type": "code",
   "execution_count": 4,
   "id": "03cbcdc1",
   "metadata": {},
   "outputs": [
    {
     "data": {
      "text/plain": [
       "0    2162-FRZAA\n",
       "1    2160-GPFXD\n",
       "2    2157-MXBJS\n",
       "3    2155-AMQRX\n",
       "4    2150-WLKUW\n",
       "Name: customer_id, dtype: object"
      ]
     },
     "execution_count": 4,
     "metadata": {},
     "output_type": "execute_result"
    }
   ],
   "source": [
    "cust_id = df['customer_id']\n",
    "cust_id.head()"
   ]
  },
  {
   "cell_type": "code",
   "execution_count": 5,
   "id": "c0b09b3d",
   "metadata": {
    "scrolled": true
   },
   "outputs": [
    {
     "data": {
      "text/html": [
       "<div>\n",
       "<style scoped>\n",
       "    .dataframe tbody tr th:only-of-type {\n",
       "        vertical-align: middle;\n",
       "    }\n",
       "\n",
       "    .dataframe tbody tr th {\n",
       "        vertical-align: top;\n",
       "    }\n",
       "\n",
       "    .dataframe thead th {\n",
       "        text-align: right;\n",
       "    }\n",
       "</style>\n",
       "<table border=\"1\" class=\"dataframe\">\n",
       "  <thead>\n",
       "    <tr style=\"text-align: right;\">\n",
       "      <th></th>\n",
       "      <th>payment_type_id</th>\n",
       "      <th>internet_service_type_id</th>\n",
       "      <th>contract_type_id</th>\n",
       "      <th>customer_id</th>\n",
       "      <th>gender</th>\n",
       "      <th>senior_citizen</th>\n",
       "      <th>partner</th>\n",
       "      <th>dependents</th>\n",
       "      <th>tenure</th>\n",
       "      <th>phone_service</th>\n",
       "      <th>...</th>\n",
       "      <th>device_protection</th>\n",
       "      <th>tech_support</th>\n",
       "      <th>streaming_tv</th>\n",
       "      <th>streaming_movies</th>\n",
       "      <th>paperless_billing</th>\n",
       "      <th>monthly_charges</th>\n",
       "      <th>churn</th>\n",
       "      <th>contract_type</th>\n",
       "      <th>internet_service_type</th>\n",
       "      <th>payment_type</th>\n",
       "    </tr>\n",
       "  </thead>\n",
       "  <tbody>\n",
       "    <tr>\n",
       "      <th>0</th>\n",
       "      <td>3</td>\n",
       "      <td>1</td>\n",
       "      <td>3</td>\n",
       "      <td>2162-FRZAA</td>\n",
       "      <td>Male</td>\n",
       "      <td>0</td>\n",
       "      <td>Yes</td>\n",
       "      <td>Yes</td>\n",
       "      <td>63</td>\n",
       "      <td>No</td>\n",
       "      <td>...</td>\n",
       "      <td>Yes</td>\n",
       "      <td>Yes</td>\n",
       "      <td>No</td>\n",
       "      <td>No</td>\n",
       "      <td>No</td>\n",
       "      <td>39.35</td>\n",
       "      <td>No</td>\n",
       "      <td>Two year</td>\n",
       "      <td>DSL</td>\n",
       "      <td>Bank transfer (automatic)</td>\n",
       "    </tr>\n",
       "    <tr>\n",
       "      <th>1</th>\n",
       "      <td>4</td>\n",
       "      <td>1</td>\n",
       "      <td>3</td>\n",
       "      <td>2160-GPFXD</td>\n",
       "      <td>Male</td>\n",
       "      <td>0</td>\n",
       "      <td>Yes</td>\n",
       "      <td>Yes</td>\n",
       "      <td>54</td>\n",
       "      <td>Yes</td>\n",
       "      <td>...</td>\n",
       "      <td>No</td>\n",
       "      <td>Yes</td>\n",
       "      <td>No</td>\n",
       "      <td>No</td>\n",
       "      <td>Yes</td>\n",
       "      <td>65.65</td>\n",
       "      <td>No</td>\n",
       "      <td>Two year</td>\n",
       "      <td>DSL</td>\n",
       "      <td>Credit card (automatic)</td>\n",
       "    </tr>\n",
       "    <tr>\n",
       "      <th>2</th>\n",
       "      <td>2</td>\n",
       "      <td>1</td>\n",
       "      <td>2</td>\n",
       "      <td>2157-MXBJS</td>\n",
       "      <td>Male</td>\n",
       "      <td>0</td>\n",
       "      <td>Yes</td>\n",
       "      <td>No</td>\n",
       "      <td>13</td>\n",
       "      <td>Yes</td>\n",
       "      <td>...</td>\n",
       "      <td>Yes</td>\n",
       "      <td>No</td>\n",
       "      <td>Yes</td>\n",
       "      <td>Yes</td>\n",
       "      <td>Yes</td>\n",
       "      <td>75.30</td>\n",
       "      <td>Yes</td>\n",
       "      <td>One year</td>\n",
       "      <td>DSL</td>\n",
       "      <td>Mailed check</td>\n",
       "    </tr>\n",
       "    <tr>\n",
       "      <th>3</th>\n",
       "      <td>4</td>\n",
       "      <td>1</td>\n",
       "      <td>1</td>\n",
       "      <td>2155-AMQRX</td>\n",
       "      <td>Female</td>\n",
       "      <td>0</td>\n",
       "      <td>No</td>\n",
       "      <td>No</td>\n",
       "      <td>28</td>\n",
       "      <td>Yes</td>\n",
       "      <td>...</td>\n",
       "      <td>No</td>\n",
       "      <td>Yes</td>\n",
       "      <td>No</td>\n",
       "      <td>No</td>\n",
       "      <td>Yes</td>\n",
       "      <td>54.90</td>\n",
       "      <td>No</td>\n",
       "      <td>Month-to-month</td>\n",
       "      <td>DSL</td>\n",
       "      <td>Credit card (automatic)</td>\n",
       "    </tr>\n",
       "    <tr>\n",
       "      <th>4</th>\n",
       "      <td>3</td>\n",
       "      <td>1</td>\n",
       "      <td>2</td>\n",
       "      <td>2150-WLKUW</td>\n",
       "      <td>Female</td>\n",
       "      <td>0</td>\n",
       "      <td>Yes</td>\n",
       "      <td>No</td>\n",
       "      <td>40</td>\n",
       "      <td>Yes</td>\n",
       "      <td>...</td>\n",
       "      <td>No</td>\n",
       "      <td>No</td>\n",
       "      <td>Yes</td>\n",
       "      <td>No</td>\n",
       "      <td>No</td>\n",
       "      <td>63.90</td>\n",
       "      <td>No</td>\n",
       "      <td>One year</td>\n",
       "      <td>DSL</td>\n",
       "      <td>Bank transfer (automatic)</td>\n",
       "    </tr>\n",
       "  </tbody>\n",
       "</table>\n",
       "<p>5 rows × 23 columns</p>\n",
       "</div>"
      ],
      "text/plain": [
       "   payment_type_id  internet_service_type_id  contract_type_id customer_id  \\\n",
       "0                3                         1                 3  2162-FRZAA   \n",
       "1                4                         1                 3  2160-GPFXD   \n",
       "2                2                         1                 2  2157-MXBJS   \n",
       "3                4                         1                 1  2155-AMQRX   \n",
       "4                3                         1                 2  2150-WLKUW   \n",
       "\n",
       "   gender  senior_citizen partner dependents  tenure phone_service  ...  \\\n",
       "0    Male               0     Yes        Yes      63            No  ...   \n",
       "1    Male               0     Yes        Yes      54           Yes  ...   \n",
       "2    Male               0     Yes         No      13           Yes  ...   \n",
       "3  Female               0      No         No      28           Yes  ...   \n",
       "4  Female               0     Yes         No      40           Yes  ...   \n",
       "\n",
       "  device_protection tech_support streaming_tv streaming_movies  \\\n",
       "0               Yes          Yes           No               No   \n",
       "1                No          Yes           No               No   \n",
       "2               Yes           No          Yes              Yes   \n",
       "3                No          Yes           No               No   \n",
       "4                No           No          Yes               No   \n",
       "\n",
       "  paperless_billing monthly_charges churn   contract_type  \\\n",
       "0                No           39.35    No        Two year   \n",
       "1               Yes           65.65    No        Two year   \n",
       "2               Yes           75.30   Yes        One year   \n",
       "3               Yes           54.90    No  Month-to-month   \n",
       "4                No           63.90    No        One year   \n",
       "\n",
       "   internet_service_type               payment_type  \n",
       "0                    DSL  Bank transfer (automatic)  \n",
       "1                    DSL    Credit card (automatic)  \n",
       "2                    DSL               Mailed check  \n",
       "3                    DSL    Credit card (automatic)  \n",
       "4                    DSL  Bank transfer (automatic)  \n",
       "\n",
       "[5 rows x 23 columns]"
      ]
     },
     "execution_count": 5,
     "metadata": {},
     "output_type": "execute_result"
    }
   ],
   "source": [
    "#drop out any redundant, excessively empty, or bad columns, but drop customer_id AFTER SPLit.  We need to capture\n",
    "# the id's for the prediction csv to be created as a deliverable.\n",
    "df = df.drop(columns=['total_charges'])\n",
    "df.head()"
   ]
  },
  {
   "cell_type": "code",
   "execution_count": 6,
   "id": "8a5a9dac",
   "metadata": {},
   "outputs": [],
   "source": [
    "# encode categorical values:                                      \n",
    "df = pd.concat(\n",
    "    [df, pd.get_dummies(df[['gender', 'partner', 'dependents', 'phone_service',\n",
    "       'paperless_billing', 'churn']],\n",
    "                    drop_first=True)], axis=1)"
   ]
  },
  {
   "cell_type": "code",
   "execution_count": 7,
   "id": "dfaa22fb",
   "metadata": {},
   "outputs": [],
   "source": [
    "# SPLIT\n",
    "\n",
    "def split_telco_data(df, target='churn'):\n",
    "    '''\n",
    "    split data will split data based on \n",
    "    the values present in a cleaned version\n",
    "    \n",
    "    '''\n",
    "    train_val, test = train_test_split(df,\n",
    "                                   train_size=0.8,\n",
    "                                   random_state=2013,\n",
    "                                   stratify=df[target])\n",
    "    train, validate = train_test_split(train_val,\n",
    "                                   train_size=0.7,\n",
    "                                   random_state=2013,\n",
    "                                   stratify=train_val[target])\n",
    "    return train, validate, test"
   ]
  },
  {
   "cell_type": "code",
   "execution_count": 8,
   "id": "d6170010",
   "metadata": {},
   "outputs": [],
   "source": [
    "train, validate, test = split_telco_data(df,target='churn')"
   ]
  },
  {
   "cell_type": "code",
   "execution_count": 9,
   "id": "69dd39eb",
   "metadata": {},
   "outputs": [
    {
     "data": {
      "text/plain": [
       "((3943, 29), (1691, 29), (1409, 29))"
      ]
     },
     "execution_count": 9,
     "metadata": {},
     "output_type": "execute_result"
    }
   ],
   "source": [
    "train.shape, validate.shape, test.shape"
   ]
  },
  {
   "cell_type": "code",
   "execution_count": 10,
   "id": "d4f5dd2a",
   "metadata": {},
   "outputs": [
    {
     "data": {
      "text/plain": [
       "4558    6207-WIOLX\n",
       "4481    6502-KUGLL\n",
       "6373    5465-BUBFA\n",
       "6667    3530-VWVGU\n",
       "3439    9040-KZVWO\n",
       "Name: customer_id, dtype: object"
      ]
     },
     "execution_count": 10,
     "metadata": {},
     "output_type": "execute_result"
    }
   ],
   "source": [
    "test_cust_id = test['customer_id']\n",
    "test_cust_id.head()"
   ]
  },
  {
   "cell_type": "code",
   "execution_count": 11,
   "id": "77335f11",
   "metadata": {},
   "outputs": [],
   "source": [
    "train.drop(columns=['customer_id'],inplace=True)"
   ]
  },
  {
   "cell_type": "code",
   "execution_count": 12,
   "id": "afe968db",
   "metadata": {},
   "outputs": [],
   "source": [
    "validate.drop(columns=['customer_id'],inplace=True)\n",
    "test.drop(columns=['customer_id'],inplace=True)"
   ]
  },
  {
   "cell_type": "code",
   "execution_count": 13,
   "id": "dd3f79e4",
   "metadata": {
    "scrolled": true
   },
   "outputs": [
    {
     "name": "stdout",
     "output_type": "stream",
     "text": [
      "<class 'pandas.core.frame.DataFrame'>\n",
      "Int64Index: 3943 entries, 1166 to 5872\n",
      "Data columns (total 28 columns):\n",
      " #   Column                    Non-Null Count  Dtype  \n",
      "---  ------                    --------------  -----  \n",
      " 0   payment_type_id           3943 non-null   int64  \n",
      " 1   internet_service_type_id  3943 non-null   int64  \n",
      " 2   contract_type_id          3943 non-null   int64  \n",
      " 3   gender                    3943 non-null   object \n",
      " 4   senior_citizen            3943 non-null   int64  \n",
      " 5   partner                   3943 non-null   object \n",
      " 6   dependents                3943 non-null   object \n",
      " 7   tenure                    3943 non-null   int64  \n",
      " 8   phone_service             3943 non-null   object \n",
      " 9   multiple_lines            3943 non-null   object \n",
      " 10  online_security           3943 non-null   object \n",
      " 11  online_backup             3943 non-null   object \n",
      " 12  device_protection         3943 non-null   object \n",
      " 13  tech_support              3943 non-null   object \n",
      " 14  streaming_tv              3943 non-null   object \n",
      " 15  streaming_movies          3943 non-null   object \n",
      " 16  paperless_billing         3943 non-null   object \n",
      " 17  monthly_charges           3943 non-null   float64\n",
      " 18  churn                     3943 non-null   object \n",
      " 19  contract_type             3943 non-null   object \n",
      " 20  internet_service_type     3943 non-null   object \n",
      " 21  payment_type              3943 non-null   object \n",
      " 22  gender_Male               3943 non-null   uint8  \n",
      " 23  partner_Yes               3943 non-null   uint8  \n",
      " 24  dependents_Yes            3943 non-null   uint8  \n",
      " 25  phone_service_Yes         3943 non-null   uint8  \n",
      " 26  paperless_billing_Yes     3943 non-null   uint8  \n",
      " 27  churn_Yes                 3943 non-null   uint8  \n",
      "dtypes: float64(1), int64(5), object(16), uint8(6)\n",
      "memory usage: 731.6+ KB\n"
     ]
    }
   ],
   "source": [
    "train.info()"
   ]
  },
  {
   "cell_type": "code",
   "execution_count": 14,
   "id": "05109144",
   "metadata": {},
   "outputs": [
    {
     "name": "stdout",
     "output_type": "stream",
     "text": [
      "1    0.345169\n",
      "3    0.223180\n",
      "2    0.220644\n",
      "4    0.211007\n",
      "Name: payment_type_id, dtype: float64\n",
      "2    0.445093\n",
      "1    0.335531\n",
      "3    0.219376\n",
      "Name: internet_service_type_id, dtype: float64\n",
      "1    0.548060\n",
      "3    0.245752\n",
      "2    0.206188\n",
      "Name: contract_type_id, dtype: float64\n",
      "Male      0.506467\n",
      "Female    0.493533\n",
      "Name: gender, dtype: float64\n",
      "0    0.83718\n",
      "1    0.16282\n",
      "Name: senior_citizen, dtype: float64\n",
      "No     0.515597\n",
      "Yes    0.484403\n",
      "Name: partner, dtype: float64\n",
      "No     0.702004\n",
      "Yes    0.297996\n",
      "Name: dependents, dtype: float64\n",
      "1     0.084453\n",
      "72    0.052752\n",
      "2     0.036520\n",
      "3     0.027644\n",
      "4     0.026122\n",
      "71    0.023332\n",
      "9     0.018007\n",
      "12    0.018007\n",
      "7     0.016992\n",
      "8     0.016739\n",
      "10    0.016739\n",
      "6     0.016231\n",
      "5     0.015470\n",
      "18    0.015217\n",
      "70    0.014710\n",
      "68    0.014710\n",
      "11    0.014202\n",
      "13    0.014202\n",
      "15    0.013695\n",
      "69    0.013442\n",
      "22    0.012934\n",
      "17    0.012681\n",
      "24    0.012681\n",
      "56    0.012427\n",
      "16    0.012173\n",
      "25    0.011920\n",
      "23    0.011666\n",
      "60    0.011666\n",
      "29    0.011666\n",
      "32    0.011413\n",
      "27    0.011413\n",
      "67    0.011413\n",
      "65    0.011413\n",
      "51    0.011159\n",
      "30    0.011159\n",
      "35    0.011159\n",
      "62    0.010905\n",
      "54    0.010905\n",
      "41    0.010652\n",
      "20    0.010652\n",
      "52    0.010652\n",
      "42    0.010398\n",
      "64    0.010398\n",
      "21    0.010398\n",
      "63    0.010398\n",
      "47    0.010145\n",
      "46    0.010145\n",
      "66    0.010145\n",
      "34    0.010145\n",
      "26    0.009891\n",
      "14    0.009891\n",
      "43    0.009637\n",
      "61    0.009637\n",
      "33    0.009637\n",
      "53    0.009637\n",
      "55    0.009637\n",
      "45    0.009384\n",
      "37    0.009384\n",
      "38    0.009130\n",
      "28    0.009130\n",
      "57    0.008876\n",
      "58    0.008876\n",
      "19    0.008623\n",
      "31    0.008623\n",
      "48    0.008369\n",
      "49    0.008369\n",
      "44    0.008369\n",
      "59    0.008369\n",
      "36    0.008116\n",
      "39    0.008116\n",
      "50    0.007608\n",
      "40    0.006848\n",
      "0     0.001775\n",
      "Name: tenure, dtype: float64\n",
      "Yes    0.90388\n",
      "No     0.09612\n",
      "Name: phone_service, dtype: float64\n",
      "No                  0.48491\n",
      "Yes                 0.41897\n",
      "No phone service    0.09612\n",
      "Name: multiple_lines, dtype: float64\n",
      "No                     0.489221\n",
      "Yes                    0.291402\n",
      "No internet service    0.219376\n",
      "Name: online_security, dtype: float64\n",
      "No                     0.437738\n",
      "Yes                    0.342886\n",
      "No internet service    0.219376\n",
      "Name: online_backup, dtype: float64\n",
      "No                     0.437231\n",
      "Yes                    0.343393\n",
      "No internet service    0.219376\n",
      "Name: device_protection, dtype: float64\n",
      "No                     0.492518\n",
      "Yes                    0.288106\n",
      "No internet service    0.219376\n",
      "Name: tech_support, dtype: float64\n",
      "No                     0.401471\n",
      "Yes                    0.379153\n",
      "No internet service    0.219376\n",
      "Name: streaming_tv, dtype: float64\n",
      "No                     0.391834\n",
      "Yes                    0.388790\n",
      "No internet service    0.219376\n",
      "Name: streaming_movies, dtype: float64\n",
      "Yes    0.59295\n",
      "No     0.40705\n",
      "Name: paperless_billing, dtype: float64\n",
      "20.05     0.009891\n",
      "20.00     0.006594\n",
      "19.55     0.006594\n",
      "20.25     0.006594\n",
      "19.70     0.006340\n",
      "            ...   \n",
      "106.25    0.000254\n",
      "107.95    0.000254\n",
      "88.75     0.000254\n",
      "46.05     0.000254\n",
      "98.35     0.000254\n",
      "Name: monthly_charges, Length: 1319, dtype: float64\n",
      "No     0.73472\n",
      "Yes    0.26528\n",
      "Name: churn, dtype: float64\n",
      "Month-to-month    0.548060\n",
      "Two year          0.245752\n",
      "One year          0.206188\n",
      "Name: contract_type, dtype: float64\n",
      "Fiber optic    0.445093\n",
      "DSL            0.335531\n",
      "None           0.219376\n",
      "Name: internet_service_type, dtype: float64\n",
      "Electronic check             0.345169\n",
      "Bank transfer (automatic)    0.223180\n",
      "Mailed check                 0.220644\n",
      "Credit card (automatic)      0.211007\n",
      "Name: payment_type, dtype: float64\n",
      "1    0.506467\n",
      "0    0.493533\n",
      "Name: gender_Male, dtype: float64\n",
      "0    0.515597\n",
      "1    0.484403\n",
      "Name: partner_Yes, dtype: float64\n",
      "0    0.702004\n",
      "1    0.297996\n",
      "Name: dependents_Yes, dtype: float64\n",
      "1    0.90388\n",
      "0    0.09612\n",
      "Name: phone_service_Yes, dtype: float64\n",
      "1    0.59295\n",
      "0    0.40705\n",
      "Name: paperless_billing_Yes, dtype: float64\n",
      "0    0.73472\n",
      "1    0.26528\n",
      "Name: churn_Yes, dtype: float64\n"
     ]
    }
   ],
   "source": [
    "for col in train.columns:\n",
    "    print(train[col].value_counts(normalize=True))"
   ]
  },
  {
   "cell_type": "markdown",
   "id": "055afd31",
   "metadata": {},
   "source": [
    "#### TRAIN STUFF Yes RUN"
   ]
  },
  {
   "cell_type": "code",
   "execution_count": 15,
   "id": "1543776f",
   "metadata": {},
   "outputs": [],
   "source": [
    "cat_cols, cat_cols_e, num_cols = [], [], []\n",
    "for col in train.columns:\n",
    "    if train[col].dtype == 'O':\n",
    "        cat_cols.append(col)\n",
    "    else:\n",
    "        if train[col].nunique() < 10:\n",
    "            cat_cols_e.append(col)\n",
    "        else:\n",
    "            num_cols.append(col)"
   ]
  },
  {
   "cell_type": "code",
   "execution_count": 16,
   "id": "1cdbdcc9",
   "metadata": {},
   "outputs": [
    {
     "data": {
      "text/plain": [
       "['gender',\n",
       " 'partner',\n",
       " 'dependents',\n",
       " 'phone_service',\n",
       " 'multiple_lines',\n",
       " 'online_security',\n",
       " 'online_backup',\n",
       " 'device_protection',\n",
       " 'tech_support',\n",
       " 'streaming_tv',\n",
       " 'streaming_movies',\n",
       " 'paperless_billing',\n",
       " 'churn',\n",
       " 'contract_type',\n",
       " 'internet_service_type',\n",
       " 'payment_type']"
      ]
     },
     "execution_count": 16,
     "metadata": {},
     "output_type": "execute_result"
    }
   ],
   "source": [
    "cat_cols"
   ]
  },
  {
   "cell_type": "code",
   "execution_count": 17,
   "id": "12cd45af",
   "metadata": {},
   "outputs": [
    {
     "data": {
      "text/plain": [
       "['payment_type_id',\n",
       " 'internet_service_type_id',\n",
       " 'contract_type_id',\n",
       " 'senior_citizen',\n",
       " 'gender_Male',\n",
       " 'partner_Yes',\n",
       " 'dependents_Yes',\n",
       " 'phone_service_Yes',\n",
       " 'paperless_billing_Yes',\n",
       " 'churn_Yes']"
      ]
     },
     "execution_count": 17,
     "metadata": {},
     "output_type": "execute_result"
    }
   ],
   "source": [
    "cat_cols_e"
   ]
  },
  {
   "cell_type": "code",
   "execution_count": 18,
   "id": "89691674",
   "metadata": {},
   "outputs": [
    {
     "name": "stdout",
     "output_type": "stream",
     "text": [
      "Univariate assessment of feature gender:\n"
     ]
    },
    {
     "data": {
      "image/png": "[encoded data removed]",
      "text/plain": [
       "<Figure size 640x480 with 1 Axes>"
      ]
     },
     "metadata": {},
     "output_type": "display_data"
    },
    {
     "name": "stdout",
     "output_type": "stream",
     "text": [
      "        gender    gender\n",
      "Male      1997  0.506467\n",
      "Female    1946  0.493533\n",
      "Univariate assessment of feature partner:\n"
     ]
    },
    {
     "data": {
      "image/png": "[encoded data removed]",
      "text/plain": [
       "<Figure size 640x480 with 1 Axes>"
      ]
     },
     "metadata": {},
     "output_type": "display_data"
    },
    {
     "name": "stdout",
     "output_type": "stream",
     "text": [
      "     partner   partner\n",
      "No      2033  0.515597\n",
      "Yes     1910  0.484403\n",
      "Univariate assessment of feature dependents:\n"
     ]
    },
    {
     "data": {
      "image/png": "[encoded data removed]",
      "text/plain": [
       "<Figure size 640x480 with 1 Axes>"
      ]
     },
     "metadata": {},
     "output_type": "display_data"
    },
    {
     "name": "stdout",
     "output_type": "stream",
     "text": [
      "     dependents  dependents\n",
      "No         2768    0.702004\n",
      "Yes        1175    0.297996\n",
      "Univariate assessment of feature phone_service:\n"
     ]
    },
    {
     "data": {
      "image/png": "[encoded data removed]",
      "text/plain": [
       "<Figure size 640x480 with 1 Axes>"
      ]
     },
     "metadata": {},
     "output_type": "display_data"
    },
    {
     "name": "stdout",
     "output_type": "stream",
     "text": [
      "     phone_service  phone_service\n",
      "Yes           3564        0.90388\n",
      "No             379        0.09612\n",
      "Univariate assessment of feature multiple_lines:\n"
     ]
    },
    {
     "data": {
      "image/png": "[encoded data removed]",
      "text/plain": [
       "<Figure size 640x480 with 1 Axes>"
      ]
     },
     "metadata": {},
     "output_type": "display_data"
    },
    {
     "name": "stdout",
     "output_type": "stream",
     "text": [
      "                  multiple_lines  multiple_lines\n",
      "No                          1912         0.48491\n",
      "Yes                         1652         0.41897\n",
      "No phone service             379         0.09612\n",
      "Univariate assessment of feature online_security:\n"
     ]
    },
    {
     "data": {
      "image/png": "[encoded data removed]",
      "text/plain": [
       "<Figure size 640x480 with 1 Axes>"
      ]
     },
     "metadata": {},
     "output_type": "display_data"
    },
    {
     "name": "stdout",
     "output_type": "stream",
     "text": [
      "                     online_security  online_security\n",
      "No                              1929         0.489221\n",
      "Yes                             1149         0.291402\n",
      "No internet service              865         0.219376\n",
      "Univariate assessment of feature online_backup:\n"
     ]
    },
    {
     "data": {
      "image/png": "[encoded data removed]",
      "text/plain": [
       "<Figure size 640x480 with 1 Axes>"
      ]
     },
     "metadata": {},
     "output_type": "display_data"
    },
    {
     "name": "stdout",
     "output_type": "stream",
     "text": [
      "                     online_backup  online_backup\n",
      "No                            1726       0.437738\n",
      "Yes                           1352       0.342886\n",
      "No internet service            865       0.219376\n",
      "Univariate assessment of feature device_protection:\n"
     ]
    },
    {
     "data": {
      "image/png": "[encoded data removed]",
      "text/plain": [
       "<Figure size 640x480 with 1 Axes>"
      ]
     },
     "metadata": {},
     "output_type": "display_data"
    },
    {
     "name": "stdout",
     "output_type": "stream",
     "text": [
      "                     device_protection  device_protection\n",
      "No                                1724           0.437231\n",
      "Yes                               1354           0.343393\n",
      "No internet service                865           0.219376\n",
      "Univariate assessment of feature tech_support:\n"
     ]
    },
    {
     "data": {
      "image/png": "[encoded data removed]",
      "text/plain": [
       "<Figure size 640x480 with 1 Axes>"
      ]
     },
     "metadata": {},
     "output_type": "display_data"
    },
    {
     "name": "stdout",
     "output_type": "stream",
     "text": [
      "                     tech_support  tech_support\n",
      "No                           1942      0.492518\n",
      "Yes                          1136      0.288106\n",
      "No internet service           865      0.219376\n",
      "Univariate assessment of feature streaming_tv:\n"
     ]
    },
    {
     "data": {
      "image/png": "[encoded data removed]",
      "text/plain": [
       "<Figure size 640x480 with 1 Axes>"
      ]
     },
     "metadata": {},
     "output_type": "display_data"
    },
    {
     "name": "stdout",
     "output_type": "stream",
     "text": [
      "                     streaming_tv  streaming_tv\n",
      "No                           1583      0.401471\n",
      "Yes                          1495      0.379153\n",
      "No internet service           865      0.219376\n",
      "Univariate assessment of feature streaming_movies:\n"
     ]
    },
    {
     "data": {
      "image/png": "[encoded data removed]",
      "text/plain": [
       "<Figure size 640x480 with 1 Axes>"
      ]
     },
     "metadata": {},
     "output_type": "display_data"
    },
    {
     "name": "stdout",
     "output_type": "stream",
     "text": [
      "                     streaming_movies  streaming_movies\n",
      "No                               1545          0.391834\n",
      "Yes                              1533          0.388790\n",
      "No internet service               865          0.219376\n",
      "Univariate assessment of feature paperless_billing:\n"
     ]
    },
    {
     "data": {
      "image/png": "[encoded data removed]",
      "text/plain": [
       "<Figure size 640x480 with 1 Axes>"
      ]
     },
     "metadata": {},
     "output_type": "display_data"
    },
    {
     "name": "stdout",
     "output_type": "stream",
     "text": [
      "     paperless_billing  paperless_billing\n",
      "Yes               2338            0.59295\n",
      "No                1605            0.40705\n",
      "Univariate assessment of feature churn:\n"
     ]
    },
    {
     "data": {
      "image/png": "[encoded data removed]",
      "text/plain": [
       "<Figure size 640x480 with 1 Axes>"
      ]
     },
     "metadata": {},
     "output_type": "display_data"
    },
    {
     "name": "stdout",
     "output_type": "stream",
     "text": [
      "     churn    churn\n",
      "No    2897  0.73472\n",
      "Yes   1046  0.26528\n",
      "Univariate assessment of feature contract_type:\n"
     ]
    },
    {
     "data": {
      "image/png": "[encoded data removed]",
      "text/plain": [
       "<Figure size 640x480 with 1 Axes>"
      ]
     },
     "metadata": {},
     "output_type": "display_data"
    },
    {
     "name": "stdout",
     "output_type": "stream",
     "text": [
      "                contract_type  contract_type\n",
      "Month-to-month           2161       0.548060\n",
      "Two year                  969       0.245752\n",
      "One year                  813       0.206188\n",
      "Univariate assessment of feature internet_service_type:\n"
     ]
    },
    {
     "data": {
      "image/png": "[encoded data removed]",
      "text/plain": [
       "<Figure size 640x480 with 1 Axes>"
      ]
     },
     "metadata": {},
     "output_type": "display_data"
    },
    {
     "name": "stdout",
     "output_type": "stream",
     "text": [
      "             internet_service_type  internet_service_type\n",
      "Fiber optic                   1755               0.445093\n",
      "DSL                           1323               0.335531\n",
      "None                           865               0.219376\n",
      "Univariate assessment of feature payment_type:\n"
     ]
    },
    {
     "data": {
      "image/png": "[encoded data removed]",
      "text/plain": [
       "<Figure size 640x480 with 1 Axes>"
      ]
     },
     "metadata": {},
     "output_type": "display_data"
    },
    {
     "name": "stdout",
     "output_type": "stream",
     "text": [
      "                           payment_type  payment_type\n",
      "Electronic check                   1361      0.345169\n",
      "Bank transfer (automatic)           880      0.223180\n",
      "Mailed check                        870      0.220644\n",
      "Credit card (automatic)             832      0.211007\n"
     ]
    }
   ],
   "source": [
    "#THIS IS FOR TRAIN\n",
    "for col in cat_cols:\n",
    "    print(f'Univariate assessment of feature {col}:')\n",
    "    sns.countplot(data=train, x=col)\n",
    "    plt.show()\n",
    "    print(\n",
    "        pd.concat([train[col].value_counts(),\n",
    "        train[col].value_counts(normalize=True)],\n",
    "             axis=1))"
   ]
  },
  {
   "cell_type": "code",
   "execution_count": 19,
   "id": "589917d9",
   "metadata": {},
   "outputs": [],
   "source": [
    "# # THIS IS FOR DF\n",
    "# for col in cat_cols:\n",
    "#     print(f'Univariate assessment of feature {col}:')\n",
    "#     sns.countplot(data=df, x=col)\n",
    "#     plt.show()\n",
    "#     print(\n",
    "#         pd.concat([df[col].value_counts(),\n",
    "#         df[col].value_counts(normalize=True)],\n",
    "#              axis=1))"
   ]
  },
  {
   "cell_type": "code",
   "execution_count": 20,
   "id": "00f9e3c5",
   "metadata": {},
   "outputs": [
    {
     "data": {
      "image/png": "[encoded data removed]",
      "text/plain": [
       "<Figure size 640x480 with 1 Axes>"
      ]
     },
     "metadata": {},
     "output_type": "display_data"
    }
   ],
   "source": [
    "sns.barplot(y='senior_citizen',x='churn',data=train)\n",
    "plt.show()"
   ]
  },
  {
   "cell_type": "code",
   "execution_count": null,
   "id": "2f81c265",
   "metadata": {},
   "outputs": [],
   "source": []
  },
  {
   "cell_type": "code",
   "execution_count": 21,
   "id": "41b4ae1e",
   "metadata": {},
   "outputs": [
    {
     "data": {
      "text/html": [
       "<div>\n",
       "<style scoped>\n",
       "    .dataframe tbody tr th:only-of-type {\n",
       "        vertical-align: middle;\n",
       "    }\n",
       "\n",
       "    .dataframe tbody tr th {\n",
       "        vertical-align: top;\n",
       "    }\n",
       "\n",
       "    .dataframe thead th {\n",
       "        text-align: right;\n",
       "    }\n",
       "</style>\n",
       "<table border=\"1\" class=\"dataframe\">\n",
       "  <thead>\n",
       "    <tr style=\"text-align: right;\">\n",
       "      <th>churn</th>\n",
       "      <th>No</th>\n",
       "      <th>Yes</th>\n",
       "    </tr>\n",
       "    <tr>\n",
       "      <th>contract_type</th>\n",
       "      <th></th>\n",
       "      <th></th>\n",
       "    </tr>\n",
       "  </thead>\n",
       "  <tbody>\n",
       "    <tr>\n",
       "      <th>Month-to-month</th>\n",
       "      <td>1241</td>\n",
       "      <td>920</td>\n",
       "    </tr>\n",
       "    <tr>\n",
       "      <th>One year</th>\n",
       "      <td>715</td>\n",
       "      <td>98</td>\n",
       "    </tr>\n",
       "    <tr>\n",
       "      <th>Two year</th>\n",
       "      <td>941</td>\n",
       "      <td>28</td>\n",
       "    </tr>\n",
       "  </tbody>\n",
       "</table>\n",
       "</div>"
      ],
      "text/plain": [
       "churn             No  Yes\n",
       "contract_type            \n",
       "Month-to-month  1241  920\n",
       "One year         715   98\n",
       "Two year         941   28"
      ]
     },
     "execution_count": 21,
     "metadata": {},
     "output_type": "execute_result"
    }
   ],
   "source": [
    "# Lets Run some CHi2 Tests:\n",
    "\n",
    "#CONTRACT TYPE\n",
    "train[['contract_type','churn']]\n",
    "\n",
    "df_contract_x =pd.crosstab(train['contract_type'],train['churn'])\n",
    "df_contract_x"
   ]
  },
  {
   "cell_type": "code",
   "execution_count": 22,
   "id": "ff57ae2a",
   "metadata": {
    "scrolled": false
   },
   "outputs": [
    {
     "data": {
      "text/plain": [
       "(650.6166776362105,\n",
       " 5.252711329723749e-142,\n",
       " 2,\n",
       " array([[1587.72939386,  573.27060614],\n",
       "        [ 597.32716206,  215.67283794],\n",
       "        [ 711.94344408,  257.05655592]]))"
      ]
     },
     "execution_count": 22,
     "metadata": {},
     "output_type": "execute_result"
    }
   ],
   "source": [
    "stats.chi2_contingency(df_contract_x)"
   ]
  },
  {
   "cell_type": "code",
   "execution_count": 23,
   "id": "7f07c05e",
   "metadata": {},
   "outputs": [
    {
     "data": {
      "text/html": [
       "<div>\n",
       "<style scoped>\n",
       "    .dataframe tbody tr th:only-of-type {\n",
       "        vertical-align: middle;\n",
       "    }\n",
       "\n",
       "    .dataframe tbody tr th {\n",
       "        vertical-align: top;\n",
       "    }\n",
       "\n",
       "    .dataframe thead th {\n",
       "        text-align: right;\n",
       "    }\n",
       "</style>\n",
       "<table border=\"1\" class=\"dataframe\">\n",
       "  <thead>\n",
       "    <tr style=\"text-align: right;\">\n",
       "      <th>churn</th>\n",
       "      <th>No</th>\n",
       "      <th>Yes</th>\n",
       "      <th>All</th>\n",
       "    </tr>\n",
       "    <tr>\n",
       "      <th>dependents</th>\n",
       "      <th></th>\n",
       "      <th></th>\n",
       "      <th></th>\n",
       "    </tr>\n",
       "  </thead>\n",
       "  <tbody>\n",
       "    <tr>\n",
       "      <th>No</th>\n",
       "      <td>1910</td>\n",
       "      <td>858</td>\n",
       "      <td>2768</td>\n",
       "    </tr>\n",
       "    <tr>\n",
       "      <th>Yes</th>\n",
       "      <td>987</td>\n",
       "      <td>188</td>\n",
       "      <td>1175</td>\n",
       "    </tr>\n",
       "    <tr>\n",
       "      <th>All</th>\n",
       "      <td>2897</td>\n",
       "      <td>1046</td>\n",
       "      <td>3943</td>\n",
       "    </tr>\n",
       "  </tbody>\n",
       "</table>\n",
       "</div>"
      ],
      "text/plain": [
       "churn         No   Yes   All\n",
       "dependents                  \n",
       "No          1910   858  2768\n",
       "Yes          987   188  1175\n",
       "All         2897  1046  3943"
      ]
     },
     "execution_count": 23,
     "metadata": {},
     "output_type": "execute_result"
    }
   ],
   "source": [
    "# Lets Run some CHi2 Tests:\n",
    "\n",
    "#DEPENDENTS\n",
    "train[['dependents','churn']]\n",
    "\n",
    "df_dependents_x =pd.crosstab(train['dependents'],train['churn'],margins=True)\n",
    "df_dependents_x"
   ]
  },
  {
   "cell_type": "code",
   "execution_count": 24,
   "id": "af1009c5",
   "metadata": {
    "scrolled": false
   },
   "outputs": [
    {
     "data": {
      "text/plain": [
       "(95.18438178355419,\n",
       " 1.0412154283328868e-19,\n",
       " 4,\n",
       " array([[2033.70428608,  734.29571392, 2768.        ],\n",
       "        [ 863.29571392,  311.70428608, 1175.        ],\n",
       "        [2897.        , 1046.        , 3943.        ]]))"
      ]
     },
     "execution_count": 24,
     "metadata": {},
     "output_type": "execute_result"
    }
   ],
   "source": [
    "stats.chi2_contingency(df_dependents_x)"
   ]
  },
  {
   "cell_type": "code",
   "execution_count": 25,
   "id": "16cff4c1",
   "metadata": {},
   "outputs": [
    {
     "data": {
      "text/html": [
       "<div>\n",
       "<style scoped>\n",
       "    .dataframe tbody tr th:only-of-type {\n",
       "        vertical-align: middle;\n",
       "    }\n",
       "\n",
       "    .dataframe tbody tr th {\n",
       "        vertical-align: top;\n",
       "    }\n",
       "\n",
       "    .dataframe thead th {\n",
       "        text-align: right;\n",
       "    }\n",
       "</style>\n",
       "<table border=\"1\" class=\"dataframe\">\n",
       "  <thead>\n",
       "    <tr style=\"text-align: right;\">\n",
       "      <th>churn</th>\n",
       "      <th>No</th>\n",
       "      <th>Yes</th>\n",
       "    </tr>\n",
       "    <tr>\n",
       "      <th>paperless_billing</th>\n",
       "      <th></th>\n",
       "      <th></th>\n",
       "    </tr>\n",
       "  </thead>\n",
       "  <tbody>\n",
       "    <tr>\n",
       "      <th>No</th>\n",
       "      <td>1336</td>\n",
       "      <td>269</td>\n",
       "    </tr>\n",
       "    <tr>\n",
       "      <th>Yes</th>\n",
       "      <td>1561</td>\n",
       "      <td>777</td>\n",
       "    </tr>\n",
       "  </tbody>\n",
       "</table>\n",
       "</div>"
      ],
      "text/plain": [
       "churn                No  Yes\n",
       "paperless_billing           \n",
       "No                 1336  269\n",
       "Yes                1561  777"
      ]
     },
     "execution_count": 25,
     "metadata": {},
     "output_type": "execute_result"
    }
   ],
   "source": [
    "# Lets Run some CHi2 Tests:\n",
    "\n",
    "#PAPERLESS\n",
    "train[['paperless_billing','churn']]\n",
    "\n",
    "df_paperless_x =pd.crosstab(train['paperless_billing'],train['churn'])\n",
    "df_paperless_x"
   ]
  },
  {
   "cell_type": "code",
   "execution_count": 26,
   "id": "03eb20a4",
   "metadata": {
    "scrolled": false
   },
   "outputs": [
    {
     "data": {
      "text/plain": [
       "(131.66139738100526,\n",
       " 1.7744488509875074e-30,\n",
       " 1,\n",
       " array([[1179.22520923,  425.77479077],\n",
       "        [1717.77479077,  620.22520923]]))"
      ]
     },
     "execution_count": 26,
     "metadata": {},
     "output_type": "execute_result"
    }
   ],
   "source": [
    "stats.chi2_contingency(df_paperless_x)"
   ]
  },
  {
   "cell_type": "code",
   "execution_count": 27,
   "id": "0fb67002",
   "metadata": {},
   "outputs": [
    {
     "data": {
      "text/html": [
       "<div>\n",
       "<style scoped>\n",
       "    .dataframe tbody tr th:only-of-type {\n",
       "        vertical-align: middle;\n",
       "    }\n",
       "\n",
       "    .dataframe tbody tr th {\n",
       "        vertical-align: top;\n",
       "    }\n",
       "\n",
       "    .dataframe thead th {\n",
       "        text-align: right;\n",
       "    }\n",
       "</style>\n",
       "<table border=\"1\" class=\"dataframe\">\n",
       "  <thead>\n",
       "    <tr style=\"text-align: right;\">\n",
       "      <th>churn</th>\n",
       "      <th>No</th>\n",
       "      <th>Yes</th>\n",
       "    </tr>\n",
       "    <tr>\n",
       "      <th>gender</th>\n",
       "      <th></th>\n",
       "      <th></th>\n",
       "    </tr>\n",
       "  </thead>\n",
       "  <tbody>\n",
       "    <tr>\n",
       "      <th>Female</th>\n",
       "      <td>1416</td>\n",
       "      <td>530</td>\n",
       "    </tr>\n",
       "    <tr>\n",
       "      <th>Male</th>\n",
       "      <td>1481</td>\n",
       "      <td>516</td>\n",
       "    </tr>\n",
       "  </tbody>\n",
       "</table>\n",
       "</div>"
      ],
      "text/plain": [
       "churn     No  Yes\n",
       "gender           \n",
       "Female  1416  530\n",
       "Male    1481  516"
      ]
     },
     "execution_count": 27,
     "metadata": {},
     "output_type": "execute_result"
    }
   ],
   "source": [
    "# Lets Run some CHi2 Tests:\n",
    "\n",
    "#GENDER\n",
    "train[['gender','churn']]\n",
    "\n",
    "df_gender_x =pd.crosstab(train['gender'],train['churn'])\n",
    "df_gender_x"
   ]
  },
  {
   "cell_type": "code",
   "execution_count": 28,
   "id": "216e2f97",
   "metadata": {
    "scrolled": true
   },
   "outputs": [
    {
     "data": {
      "text/plain": [
       "(0.9159475236298575,\n",
       " 0.33854127483141705,\n",
       " 1,\n",
       " array([[1429.76464621,  516.23535379],\n",
       "        [1467.23535379,  529.76464621]]))"
      ]
     },
     "execution_count": 28,
     "metadata": {},
     "output_type": "execute_result"
    }
   ],
   "source": [
    "stats.chi2_contingency(df_gender_x)"
   ]
  },
  {
   "cell_type": "code",
   "execution_count": 29,
   "id": "5ce46a09",
   "metadata": {},
   "outputs": [
    {
     "data": {
      "text/html": [
       "<div>\n",
       "<style scoped>\n",
       "    .dataframe tbody tr th:only-of-type {\n",
       "        vertical-align: middle;\n",
       "    }\n",
       "\n",
       "    .dataframe tbody tr th {\n",
       "        vertical-align: top;\n",
       "    }\n",
       "\n",
       "    .dataframe thead th {\n",
       "        text-align: right;\n",
       "    }\n",
       "</style>\n",
       "<table border=\"1\" class=\"dataframe\">\n",
       "  <thead>\n",
       "    <tr style=\"text-align: right;\">\n",
       "      <th>churn</th>\n",
       "      <th>No</th>\n",
       "      <th>Yes</th>\n",
       "    </tr>\n",
       "    <tr>\n",
       "      <th>senior_citizen</th>\n",
       "      <th></th>\n",
       "      <th></th>\n",
       "    </tr>\n",
       "  </thead>\n",
       "  <tbody>\n",
       "    <tr>\n",
       "      <th>0</th>\n",
       "      <td>2518</td>\n",
       "      <td>783</td>\n",
       "    </tr>\n",
       "    <tr>\n",
       "      <th>1</th>\n",
       "      <td>379</td>\n",
       "      <td>263</td>\n",
       "    </tr>\n",
       "  </tbody>\n",
       "</table>\n",
       "</div>"
      ],
      "text/plain": [
       "churn             No  Yes\n",
       "senior_citizen           \n",
       "0               2518  783\n",
       "1                379  263"
      ]
     },
     "execution_count": 29,
     "metadata": {},
     "output_type": "execute_result"
    }
   ],
   "source": [
    "# Lets Run some CHi2 Tests:\n",
    "\n",
    "#SENIOR CITIZEN\n",
    "train[['senior_citizen','churn']]\n",
    "\n",
    "df_senior_x =pd.crosstab(train['senior_citizen'],train['churn'])\n",
    "df_senior_x"
   ]
  },
  {
   "cell_type": "code",
   "execution_count": 30,
   "id": "f30f158c",
   "metadata": {
    "scrolled": false
   },
   "outputs": [
    {
     "data": {
      "text/plain": [
       "(81.1312220350024,\n",
       " 2.1121645962713915e-19,\n",
       " 1,\n",
       " array([[2425.30991631,  875.69008369],\n",
       "        [ 471.69008369,  170.30991631]]))"
      ]
     },
     "execution_count": 30,
     "metadata": {},
     "output_type": "execute_result"
    }
   ],
   "source": [
    "stats.chi2_contingency(df_senior_x)"
   ]
  },
  {
   "cell_type": "code",
   "execution_count": 31,
   "id": "c8ef8b06",
   "metadata": {},
   "outputs": [
    {
     "data": {
      "text/html": [
       "<div>\n",
       "<style scoped>\n",
       "    .dataframe tbody tr th:only-of-type {\n",
       "        vertical-align: middle;\n",
       "    }\n",
       "\n",
       "    .dataframe tbody tr th {\n",
       "        vertical-align: top;\n",
       "    }\n",
       "\n",
       "    .dataframe thead th {\n",
       "        text-align: right;\n",
       "    }\n",
       "</style>\n",
       "<table border=\"1\" class=\"dataframe\">\n",
       "  <thead>\n",
       "    <tr style=\"text-align: right;\">\n",
       "      <th>churn</th>\n",
       "      <th>No</th>\n",
       "      <th>Yes</th>\n",
       "    </tr>\n",
       "    <tr>\n",
       "      <th>partner</th>\n",
       "      <th></th>\n",
       "      <th></th>\n",
       "    </tr>\n",
       "  </thead>\n",
       "  <tbody>\n",
       "    <tr>\n",
       "      <th>No</th>\n",
       "      <td>1364</td>\n",
       "      <td>669</td>\n",
       "    </tr>\n",
       "    <tr>\n",
       "      <th>Yes</th>\n",
       "      <td>1533</td>\n",
       "      <td>377</td>\n",
       "    </tr>\n",
       "  </tbody>\n",
       "</table>\n",
       "</div>"
      ],
      "text/plain": [
       "churn      No  Yes\n",
       "partner           \n",
       "No       1364  669\n",
       "Yes      1533  377"
      ]
     },
     "execution_count": 31,
     "metadata": {},
     "output_type": "execute_result"
    }
   ],
   "source": [
    "# Lets Run some CHi2 Tests:\n",
    "\n",
    "#PARTNER\n",
    "train[['partner','churn']]\n",
    "\n",
    "df_partner_x =pd.crosstab(train['partner'],train['churn'])\n",
    "df_partner_x"
   ]
  },
  {
   "cell_type": "code",
   "execution_count": 32,
   "id": "dc668692",
   "metadata": {
    "scrolled": true
   },
   "outputs": [
    {
     "data": {
      "text/plain": [
       "(86.94715312061643,\n",
       " 1.1146002156273985e-20,\n",
       " 1,\n",
       " array([[1493.68526503,  539.31473497],\n",
       "        [1403.31473497,  506.68526503]]))"
      ]
     },
     "execution_count": 32,
     "metadata": {},
     "output_type": "execute_result"
    }
   ],
   "source": [
    "stats.chi2_contingency(df_partner_x)"
   ]
  },
  {
   "cell_type": "code",
   "execution_count": 33,
   "id": "dd8f6757",
   "metadata": {},
   "outputs": [
    {
     "data": {
      "text/html": [
       "<div>\n",
       "<style scoped>\n",
       "    .dataframe tbody tr th:only-of-type {\n",
       "        vertical-align: middle;\n",
       "    }\n",
       "\n",
       "    .dataframe tbody tr th {\n",
       "        vertical-align: top;\n",
       "    }\n",
       "\n",
       "    .dataframe thead th {\n",
       "        text-align: right;\n",
       "    }\n",
       "</style>\n",
       "<table border=\"1\" class=\"dataframe\">\n",
       "  <thead>\n",
       "    <tr style=\"text-align: right;\">\n",
       "      <th>churn</th>\n",
       "      <th>No</th>\n",
       "      <th>Yes</th>\n",
       "    </tr>\n",
       "    <tr>\n",
       "      <th>payment_type</th>\n",
       "      <th></th>\n",
       "      <th></th>\n",
       "    </tr>\n",
       "  </thead>\n",
       "  <tbody>\n",
       "    <tr>\n",
       "      <th>Bank transfer (automatic)</th>\n",
       "      <td>734</td>\n",
       "      <td>146</td>\n",
       "    </tr>\n",
       "    <tr>\n",
       "      <th>Credit card (automatic)</th>\n",
       "      <td>704</td>\n",
       "      <td>128</td>\n",
       "    </tr>\n",
       "    <tr>\n",
       "      <th>Electronic check</th>\n",
       "      <td>751</td>\n",
       "      <td>610</td>\n",
       "    </tr>\n",
       "    <tr>\n",
       "      <th>Mailed check</th>\n",
       "      <td>708</td>\n",
       "      <td>162</td>\n",
       "    </tr>\n",
       "  </tbody>\n",
       "</table>\n",
       "</div>"
      ],
      "text/plain": [
       "churn                       No  Yes\n",
       "payment_type                       \n",
       "Bank transfer (automatic)  734  146\n",
       "Credit card (automatic)    704  128\n",
       "Electronic check           751  610\n",
       "Mailed check               708  162"
      ]
     },
     "execution_count": 33,
     "metadata": {},
     "output_type": "execute_result"
    }
   ],
   "source": [
    "# Lets Run some CHi2 Tests:\n",
    "\n",
    "#PAYMENT_TYPE\n",
    "train[['payment_type','churn']]\n",
    "\n",
    "df_payment_x =pd.crosstab(train['payment_type'],train['churn'])\n",
    "df_payment_x"
   ]
  },
  {
   "cell_type": "code",
   "execution_count": 34,
   "id": "d080b236",
   "metadata": {
    "scrolled": false
   },
   "outputs": [
    {
     "data": {
      "text/plain": [
       "(359.1428664101252,\n",
       " 1.5627711225751631e-77,\n",
       " 3,\n",
       " array([[646.55338575, 233.44661425],\n",
       "        [611.28683743, 220.71316257],\n",
       "        [999.95358864, 361.04641136],\n",
       "        [639.20618818, 230.79381182]]))"
      ]
     },
     "execution_count": 34,
     "metadata": {},
     "output_type": "execute_result"
    }
   ],
   "source": [
    "stats.chi2_contingency(df_payment_x)"
   ]
  },
  {
   "cell_type": "code",
   "execution_count": 35,
   "id": "361ebfbc",
   "metadata": {},
   "outputs": [
    {
     "data": {
      "image/png": "[encoded data removed]",
      "text/plain": [
       "<Figure size 640x480 with 1 Axes>"
      ]
     },
     "metadata": {},
     "output_type": "display_data"
    },
    {
     "data": {
      "image/png": "[encoded data removed]",
      "text/plain": [
       "<Figure size 640x480 with 1 Axes>"
      ]
     },
     "metadata": {},
     "output_type": "display_data"
    },
    {
     "data": {
      "image/png": "[encoded data removed]",
      "text/plain": [
       "<Figure size 640x480 with 1 Axes>"
      ]
     },
     "metadata": {},
     "output_type": "display_data"
    },
    {
     "data": {
      "image/png": "[encoded data removed]",
      "text/plain": [
       "<Figure size 640x480 with 1 Axes>"
      ]
     },
     "metadata": {},
     "output_type": "display_data"
    },
    {
     "data": {
      "image/png": "[encoded data removed]",
      "text/plain": [
       "<Figure size 640x480 with 1 Axes>"
      ]
     },
     "metadata": {},
     "output_type": "display_data"
    },
    {
     "data": {
      "image/png": "[encoded data removed]",
      "text/plain": [
       "<Figure size 640x480 with 1 Axes>"
      ]
     },
     "metadata": {},
     "output_type": "display_data"
    },
    {
     "data": {
      "image/png": "[encoded data removed]",
      "text/plain": [
       "<Figure size 640x480 with 1 Axes>"
      ]
     },
     "metadata": {},
     "output_type": "display_data"
    },
    {
     "data": {
      "image/png": "[encoded data removed]",
      "text/plain": [
       "<Figure size 640x480 with 1 Axes>"
      ]
     },
     "metadata": {},
     "output_type": "display_data"
    },
    {
     "data": {
      "image/png": "[encoded data removed]",
      "text/plain": [
       "<Figure size 640x480 with 1 Axes>"
      ]
     },
     "metadata": {},
     "output_type": "display_data"
    },
    {
     "data": {
      "image/png": "[encoded data removed]",
      "text/plain": [
       "<Figure size 640x480 with 1 Axes>"
      ]
     },
     "metadata": {},
     "output_type": "display_data"
    }
   ],
   "source": [
    "for col in cat_cols_e:\n",
    "    if col != 'churn':\n",
    "        sns.barplot(data=train,\n",
    "                    x=col,\n",
    "                    y = 'churn_Yes',\n",
    "                   ci=False)\n",
    "        plt.title(f'Customer CHURN based on {col}')\n",
    "        plt.axhline(train.churn_Yes.mean(),label='Overall Population Churn Rate: ~ 26%',color='red',linewidth=4)\n",
    "        plt.legend()\n",
    "        plt.show()"
   ]
  },
  {
   "cell_type": "code",
   "execution_count": 36,
   "id": "21fa154b",
   "metadata": {},
   "outputs": [
    {
     "data": {
      "text/html": [
       "<div>\n",
       "<style scoped>\n",
       "    .dataframe tbody tr th:only-of-type {\n",
       "        vertical-align: middle;\n",
       "    }\n",
       "\n",
       "    .dataframe tbody tr th {\n",
       "        vertical-align: top;\n",
       "    }\n",
       "\n",
       "    .dataframe thead th {\n",
       "        text-align: right;\n",
       "    }\n",
       "</style>\n",
       "<table border=\"1\" class=\"dataframe\">\n",
       "  <thead>\n",
       "    <tr style=\"text-align: right;\">\n",
       "      <th>churn</th>\n",
       "      <th>No</th>\n",
       "      <th>Yes</th>\n",
       "    </tr>\n",
       "    <tr>\n",
       "      <th>payment_type</th>\n",
       "      <th></th>\n",
       "      <th></th>\n",
       "    </tr>\n",
       "  </thead>\n",
       "  <tbody>\n",
       "    <tr>\n",
       "      <th>Bank transfer (automatic)</th>\n",
       "      <td>734</td>\n",
       "      <td>146</td>\n",
       "    </tr>\n",
       "    <tr>\n",
       "      <th>Credit card (automatic)</th>\n",
       "      <td>704</td>\n",
       "      <td>128</td>\n",
       "    </tr>\n",
       "    <tr>\n",
       "      <th>Electronic check</th>\n",
       "      <td>751</td>\n",
       "      <td>610</td>\n",
       "    </tr>\n",
       "    <tr>\n",
       "      <th>Mailed check</th>\n",
       "      <td>708</td>\n",
       "      <td>162</td>\n",
       "    </tr>\n",
       "  </tbody>\n",
       "</table>\n",
       "</div>"
      ],
      "text/plain": [
       "churn                       No  Yes\n",
       "payment_type                       \n",
       "Bank transfer (automatic)  734  146\n",
       "Credit card (automatic)    704  128\n",
       "Electronic check           751  610\n",
       "Mailed check               708  162"
      ]
     },
     "execution_count": 36,
     "metadata": {},
     "output_type": "execute_result"
    }
   ],
   "source": [
    "df_payment_x =pd.crosstab(train['payment_type'],train['churn'])\n",
    "df_payment_x"
   ]
  },
  {
   "cell_type": "code",
   "execution_count": 37,
   "id": "c3bb5de1",
   "metadata": {},
   "outputs": [
    {
     "name": "stdout",
     "output_type": "stream",
     "text": [
      "<class 'pandas.core.frame.DataFrame'>\n",
      "Int64Index: 3943 entries, 1166 to 5872\n",
      "Data columns (total 28 columns):\n",
      " #   Column                    Non-Null Count  Dtype  \n",
      "---  ------                    --------------  -----  \n",
      " 0   payment_type_id           3943 non-null   int64  \n",
      " 1   internet_service_type_id  3943 non-null   int64  \n",
      " 2   contract_type_id          3943 non-null   int64  \n",
      " 3   gender                    3943 non-null   object \n",
      " 4   senior_citizen            3943 non-null   int64  \n",
      " 5   partner                   3943 non-null   object \n",
      " 6   dependents                3943 non-null   object \n",
      " 7   tenure                    3943 non-null   int64  \n",
      " 8   phone_service             3943 non-null   object \n",
      " 9   multiple_lines            3943 non-null   object \n",
      " 10  online_security           3943 non-null   object \n",
      " 11  online_backup             3943 non-null   object \n",
      " 12  device_protection         3943 non-null   object \n",
      " 13  tech_support              3943 non-null   object \n",
      " 14  streaming_tv              3943 non-null   object \n",
      " 15  streaming_movies          3943 non-null   object \n",
      " 16  paperless_billing         3943 non-null   object \n",
      " 17  monthly_charges           3943 non-null   float64\n",
      " 18  churn                     3943 non-null   object \n",
      " 19  contract_type             3943 non-null   object \n",
      " 20  internet_service_type     3943 non-null   object \n",
      " 21  payment_type              3943 non-null   object \n",
      " 22  gender_Male               3943 non-null   uint8  \n",
      " 23  partner_Yes               3943 non-null   uint8  \n",
      " 24  dependents_Yes            3943 non-null   uint8  \n",
      " 25  phone_service_Yes         3943 non-null   uint8  \n",
      " 26  paperless_billing_Yes     3943 non-null   uint8  \n",
      " 27  churn_Yes                 3943 non-null   uint8  \n",
      "dtypes: float64(1), int64(5), object(16), uint8(6)\n",
      "memory usage: 731.6+ KB\n"
     ]
    }
   ],
   "source": [
    "train.info()"
   ]
  },
  {
   "cell_type": "code",
   "execution_count": 38,
   "id": "417c349c",
   "metadata": {},
   "outputs": [],
   "source": [
    "# filename = \"telco_new_train2013.csv\"\n",
    "# train.to_csv(filename,index=False)"
   ]
  },
  {
   "cell_type": "code",
   "execution_count": 39,
   "id": "acdd252a",
   "metadata": {},
   "outputs": [],
   "source": [
    "# sns.pairplot(train,hue='churn',corner=True)"
   ]
  },
  {
   "cell_type": "markdown",
   "id": "30912805",
   "metadata": {},
   "source": [
    "#### OK, DO THE THING..."
   ]
  },
  {
   "cell_type": "code",
   "execution_count": 40,
   "id": "4016af92",
   "metadata": {},
   "outputs": [],
   "source": [
    "X_cols = cat_cols_e\n",
    "y_cols = 'churn_Yes'"
   ]
  },
  {
   "cell_type": "code",
   "execution_count": 41,
   "id": "c87ecceb",
   "metadata": {
    "scrolled": true
   },
   "outputs": [
    {
     "data": {
      "text/plain": [
       "(['payment_type_id',\n",
       "  'internet_service_type_id',\n",
       "  'contract_type_id',\n",
       "  'senior_citizen',\n",
       "  'gender_Male',\n",
       "  'partner_Yes',\n",
       "  'dependents_Yes',\n",
       "  'phone_service_Yes',\n",
       "  'paperless_billing_Yes'],\n",
       " 'churn_Yes')"
      ]
     },
     "execution_count": 41,
     "metadata": {},
     "output_type": "execute_result"
    }
   ],
   "source": [
    "X_cols.remove('churn_Yes')\n",
    "X_cols,y_cols"
   ]
  },
  {
   "cell_type": "code",
   "execution_count": 42,
   "id": "3321b676",
   "metadata": {},
   "outputs": [],
   "source": [
    "# make the thing\n",
    "clf = DecisionTreeClassifier()"
   ]
  },
  {
   "cell_type": "code",
   "execution_count": 43,
   "id": "3b755cb8",
   "metadata": {},
   "outputs": [
    {
     "data": {
      "text/html": [
       "<style>#sk-container-id-1 {color: black;background-color: white;}#sk-container-id-1 pre{padding: 0;}#sk-container-id-1 div.sk-toggleable {background-color: white;}#sk-container-id-1 label.sk-toggleable__label {cursor: pointer;display: block;width: 100%;margin-bottom: 0;padding: 0.3em;box-sizing: border-box;text-align: center;}#sk-container-id-1 label.sk-toggleable__label-arrow:before {content: \"▸\";float: left;margin-right: 0.25em;color: #696969;}#sk-container-id-1 label.sk-toggleable__label-arrow:hover:before {color: black;}#sk-container-id-1 div.sk-estimator:hover label.sk-toggleable__label-arrow:before {color: black;}#sk-container-id-1 div.sk-toggleable__content {max-height: 0;max-width: 0;overflow: hidden;text-align: left;background-color: #f0f8ff;}#sk-container-id-1 div.sk-toggleable__content pre {margin: 0.2em;color: black;border-radius: 0.25em;background-color: #f0f8ff;}#sk-container-id-1 input.sk-toggleable__control:checked~div.sk-toggleable__content {max-height: 200px;max-width: 100%;overflow: auto;}#sk-container-id-1 input.sk-toggleable__control:checked~label.sk-toggleable__label-arrow:before {content: \"▾\";}#sk-container-id-1 div.sk-estimator input.sk-toggleable__control:checked~label.sk-toggleable__label {background-color: #d4ebff;}#sk-container-id-1 div.sk-label input.sk-toggleable__control:checked~label.sk-toggleable__label {background-color: #d4ebff;}#sk-container-id-1 input.sk-hidden--visually {border: 0;clip: rect(1px 1px 1px 1px);clip: rect(1px, 1px, 1px, 1px);height: 1px;margin: -1px;overflow: hidden;padding: 0;position: absolute;width: 1px;}#sk-container-id-1 div.sk-estimator {font-family: monospace;background-color: #f0f8ff;border: 1px dotted black;border-radius: 0.25em;box-sizing: border-box;margin-bottom: 0.5em;}#sk-container-id-1 div.sk-estimator:hover {background-color: #d4ebff;}#sk-container-id-1 div.sk-parallel-item::after {content: \"\";width: 100%;border-bottom: 1px solid gray;flex-grow: 1;}#sk-container-id-1 div.sk-label:hover label.sk-toggleable__label {background-color: #d4ebff;}#sk-container-id-1 div.sk-serial::before {content: \"\";position: absolute;border-left: 1px solid gray;box-sizing: border-box;top: 0;bottom: 0;left: 50%;z-index: 0;}#sk-container-id-1 div.sk-serial {display: flex;flex-direction: column;align-items: center;background-color: white;padding-right: 0.2em;padding-left: 0.2em;position: relative;}#sk-container-id-1 div.sk-item {position: relative;z-index: 1;}#sk-container-id-1 div.sk-parallel {display: flex;align-items: stretch;justify-content: center;background-color: white;position: relative;}#sk-container-id-1 div.sk-item::before, #sk-container-id-1 div.sk-parallel-item::before {content: \"\";position: absolute;border-left: 1px solid gray;box-sizing: border-box;top: 0;bottom: 0;left: 50%;z-index: -1;}#sk-container-id-1 div.sk-parallel-item {display: flex;flex-direction: column;z-index: 1;position: relative;background-color: white;}#sk-container-id-1 div.sk-parallel-item:first-child::after {align-self: flex-end;width: 50%;}#sk-container-id-1 div.sk-parallel-item:last-child::after {align-self: flex-start;width: 50%;}#sk-container-id-1 div.sk-parallel-item:only-child::after {width: 0;}#sk-container-id-1 div.sk-dashed-wrapped {border: 1px dashed gray;margin: 0 0.4em 0.5em 0.4em;box-sizing: border-box;padding-bottom: 0.4em;background-color: white;}#sk-container-id-1 div.sk-label label {font-family: monospace;font-weight: bold;display: inline-block;line-height: 1.2em;}#sk-container-id-1 div.sk-label-container {text-align: center;}#sk-container-id-1 div.sk-container {/* jupyter's `normalize.less` sets `[hidden] { display: none; }` but bootstrap.min.css set `[hidden] { display: none !important; }` so we also need the `!important` here to be able to override the default hidden behavior on the sphinx rendered scikit-learn.org. See: https://github.com/scikit-learn/scikit-learn/issues/21755 */display: inline-block !important;position: relative;}#sk-container-id-1 div.sk-text-repr-fallback {display: none;}</style><div id=\"sk-container-id-1\" class=\"sk-top-container\"><div class=\"sk-text-repr-fallback\"><pre>DecisionTreeClassifier()</pre><b>In a Jupyter environment, please rerun this cell to show the HTML representation or trust the notebook. <br />On GitHub, the HTML representation is unable to render, please try loading this page with nbviewer.org.</b></div><div class=\"sk-container\" hidden><div class=\"sk-item\"><div class=\"sk-estimator sk-toggleable\"><input class=\"sk-toggleable__control sk-hidden--visually\" id=\"sk-estimator-id-1\" type=\"checkbox\" checked><label for=\"sk-estimator-id-1\" class=\"sk-toggleable__label sk-toggleable__label-arrow\">DecisionTreeClassifier</label><div class=\"sk-toggleable__content\"><pre>DecisionTreeClassifier()</pre></div></div></div></div></div>"
      ],
      "text/plain": [
       "DecisionTreeClassifier()"
      ]
     },
     "execution_count": 43,
     "metadata": {},
     "output_type": "execute_result"
    }
   ],
   "source": [
    "# whats the thing?\n",
    "clf"
   ]
  },
  {
   "cell_type": "code",
   "execution_count": 44,
   "id": "6cd0de5e",
   "metadata": {},
   "outputs": [],
   "source": [
    "X_train = train[X_cols]\n",
    "y_train = train['churn']\n",
    "\n",
    "X_validate = validate[X_cols]\n",
    "y_validate = validate['churn']\n",
    "\n",
    "X_test = test[X_cols]\n",
    "y_test = test['churn']"
   ]
  },
  {
   "cell_type": "code",
   "execution_count": 45,
   "id": "0afb4451",
   "metadata": {},
   "outputs": [
    {
     "data": {
      "text/html": [
       "<style>#sk-container-id-2 {color: black;background-color: white;}#sk-container-id-2 pre{padding: 0;}#sk-container-id-2 div.sk-toggleable {background-color: white;}#sk-container-id-2 label.sk-toggleable__label {cursor: pointer;display: block;width: 100%;margin-bottom: 0;padding: 0.3em;box-sizing: border-box;text-align: center;}#sk-container-id-2 label.sk-toggleable__label-arrow:before {content: \"▸\";float: left;margin-right: 0.25em;color: #696969;}#sk-container-id-2 label.sk-toggleable__label-arrow:hover:before {color: black;}#sk-container-id-2 div.sk-estimator:hover label.sk-toggleable__label-arrow:before {color: black;}#sk-container-id-2 div.sk-toggleable__content {max-height: 0;max-width: 0;overflow: hidden;text-align: left;background-color: #f0f8ff;}#sk-container-id-2 div.sk-toggleable__content pre {margin: 0.2em;color: black;border-radius: 0.25em;background-color: #f0f8ff;}#sk-container-id-2 input.sk-toggleable__control:checked~div.sk-toggleable__content {max-height: 200px;max-width: 100%;overflow: auto;}#sk-container-id-2 input.sk-toggleable__control:checked~label.sk-toggleable__label-arrow:before {content: \"▾\";}#sk-container-id-2 div.sk-estimator input.sk-toggleable__control:checked~label.sk-toggleable__label {background-color: #d4ebff;}#sk-container-id-2 div.sk-label input.sk-toggleable__control:checked~label.sk-toggleable__label {background-color: #d4ebff;}#sk-container-id-2 input.sk-hidden--visually {border: 0;clip: rect(1px 1px 1px 1px);clip: rect(1px, 1px, 1px, 1px);height: 1px;margin: -1px;overflow: hidden;padding: 0;position: absolute;width: 1px;}#sk-container-id-2 div.sk-estimator {font-family: monospace;background-color: #f0f8ff;border: 1px dotted black;border-radius: 0.25em;box-sizing: border-box;margin-bottom: 0.5em;}#sk-container-id-2 div.sk-estimator:hover {background-color: #d4ebff;}#sk-container-id-2 div.sk-parallel-item::after {content: \"\";width: 100%;border-bottom: 1px solid gray;flex-grow: 1;}#sk-container-id-2 div.sk-label:hover label.sk-toggleable__label {background-color: #d4ebff;}#sk-container-id-2 div.sk-serial::before {content: \"\";position: absolute;border-left: 1px solid gray;box-sizing: border-box;top: 0;bottom: 0;left: 50%;z-index: 0;}#sk-container-id-2 div.sk-serial {display: flex;flex-direction: column;align-items: center;background-color: white;padding-right: 0.2em;padding-left: 0.2em;position: relative;}#sk-container-id-2 div.sk-item {position: relative;z-index: 1;}#sk-container-id-2 div.sk-parallel {display: flex;align-items: stretch;justify-content: center;background-color: white;position: relative;}#sk-container-id-2 div.sk-item::before, #sk-container-id-2 div.sk-parallel-item::before {content: \"\";position: absolute;border-left: 1px solid gray;box-sizing: border-box;top: 0;bottom: 0;left: 50%;z-index: -1;}#sk-container-id-2 div.sk-parallel-item {display: flex;flex-direction: column;z-index: 1;position: relative;background-color: white;}#sk-container-id-2 div.sk-parallel-item:first-child::after {align-self: flex-end;width: 50%;}#sk-container-id-2 div.sk-parallel-item:last-child::after {align-self: flex-start;width: 50%;}#sk-container-id-2 div.sk-parallel-item:only-child::after {width: 0;}#sk-container-id-2 div.sk-dashed-wrapped {border: 1px dashed gray;margin: 0 0.4em 0.5em 0.4em;box-sizing: border-box;padding-bottom: 0.4em;background-color: white;}#sk-container-id-2 div.sk-label label {font-family: monospace;font-weight: bold;display: inline-block;line-height: 1.2em;}#sk-container-id-2 div.sk-label-container {text-align: center;}#sk-container-id-2 div.sk-container {/* jupyter's `normalize.less` sets `[hidden] { display: none; }` but bootstrap.min.css set `[hidden] { display: none !important; }` so we also need the `!important` here to be able to override the default hidden behavior on the sphinx rendered scikit-learn.org. See: https://github.com/scikit-learn/scikit-learn/issues/21755 */display: inline-block !important;position: relative;}#sk-container-id-2 div.sk-text-repr-fallback {display: none;}</style><div id=\"sk-container-id-2\" class=\"sk-top-container\"><div class=\"sk-text-repr-fallback\"><pre>DecisionTreeClassifier()</pre><b>In a Jupyter environment, please rerun this cell to show the HTML representation or trust the notebook. <br />On GitHub, the HTML representation is unable to render, please try loading this page with nbviewer.org.</b></div><div class=\"sk-container\" hidden><div class=\"sk-item\"><div class=\"sk-estimator sk-toggleable\"><input class=\"sk-toggleable__control sk-hidden--visually\" id=\"sk-estimator-id-2\" type=\"checkbox\" checked><label for=\"sk-estimator-id-2\" class=\"sk-toggleable__label sk-toggleable__label-arrow\">DecisionTreeClassifier</label><div class=\"sk-toggleable__content\"><pre>DecisionTreeClassifier()</pre></div></div></div></div></div>"
      ],
      "text/plain": [
       "DecisionTreeClassifier()"
      ]
     },
     "execution_count": 45,
     "metadata": {},
     "output_type": "execute_result"
    }
   ],
   "source": [
    "# fit the thing:\n",
    "# note that i am not assigning clf.fit into anything\n",
    "# clf.fit changes the object itself,\n",
    "# which means its ready to use!\n",
    "clf.fit(X_train, y_train)"
   ]
  },
  {
   "cell_type": "code",
   "execution_count": 46,
   "id": "f2f10b9a",
   "metadata": {},
   "outputs": [
    {
     "data": {
      "text/plain": [
       "array(['No', 'No', 'No', 'No', 'No', 'No', 'No', 'No', 'No', 'No'],\n",
       "      dtype=object)"
      ]
     },
     "execution_count": 46,
     "metadata": {},
     "output_type": "execute_result"
    }
   ],
   "source": [
    "# use the thing!!\n",
    "model_1_preds = clf.predict(X_train)\n",
    "model_1_preds[:10]"
   ]
  },
  {
   "cell_type": "code",
   "execution_count": 47,
   "id": "fba9230e",
   "metadata": {},
   "outputs": [
    {
     "data": {
      "text/plain": [
       "0.806492518387015"
      ]
     },
     "execution_count": 47,
     "metadata": {},
     "output_type": "execute_result"
    }
   ],
   "source": [
    "# accuracy lil more like we saw before\n",
    "accuracy_score(y_train, model_1_preds)"
   ]
  },
  {
   "cell_type": "code",
   "execution_count": 48,
   "id": "79fb637a",
   "metadata": {
    "scrolled": true
   },
   "outputs": [
    {
     "data": {
      "text/html": [
       "<div>\n",
       "<style scoped>\n",
       "    .dataframe tbody tr th:only-of-type {\n",
       "        vertical-align: middle;\n",
       "    }\n",
       "\n",
       "    .dataframe tbody tr th {\n",
       "        vertical-align: top;\n",
       "    }\n",
       "\n",
       "    .dataframe thead th {\n",
       "        text-align: right;\n",
       "    }\n",
       "</style>\n",
       "<table border=\"1\" class=\"dataframe\">\n",
       "  <thead>\n",
       "    <tr style=\"text-align: right;\">\n",
       "      <th>churn</th>\n",
       "      <th>No</th>\n",
       "      <th>Yes</th>\n",
       "    </tr>\n",
       "    <tr>\n",
       "      <th>row_0</th>\n",
       "      <th></th>\n",
       "      <th></th>\n",
       "    </tr>\n",
       "  </thead>\n",
       "  <tbody>\n",
       "    <tr>\n",
       "      <th>No</th>\n",
       "      <td>2609</td>\n",
       "      <td>475</td>\n",
       "    </tr>\n",
       "    <tr>\n",
       "      <th>Yes</th>\n",
       "      <td>288</td>\n",
       "      <td>571</td>\n",
       "    </tr>\n",
       "  </tbody>\n",
       "</table>\n",
       "</div>"
      ],
      "text/plain": [
       "churn    No  Yes\n",
       "row_0           \n",
       "No     2609  475\n",
       "Yes     288  571"
      ]
     },
     "execution_count": 48,
     "metadata": {},
     "output_type": "execute_result"
    }
   ],
   "source": [
    "pd.crosstab(model_1_preds,y_train) # see the actual survived status is now columns"
   ]
  },
  {
   "cell_type": "code",
   "execution_count": 49,
   "id": "33c52175",
   "metadata": {},
   "outputs": [
    {
     "name": "stdout",
     "output_type": "stream",
     "text": [
      "              precision    recall  f1-score   support\n",
      "\n",
      "          No       0.85      0.90      0.87      2897\n",
      "         Yes       0.66      0.55      0.60      1046\n",
      "\n",
      "    accuracy                           0.81      3943\n",
      "   macro avg       0.76      0.72      0.74      3943\n",
      "weighted avg       0.80      0.81      0.80      3943\n",
      "\n"
     ]
    }
   ],
   "source": [
    "# classification report:\n",
    "print(\n",
    "    classification_report(y_train,\n",
    "                      model_1_preds))"
   ]
  },
  {
   "cell_type": "code",
   "execution_count": 50,
   "id": "86df390e",
   "metadata": {},
   "outputs": [
    {
     "data": {
      "text/plain": [
       "array([[1.        , 0.        ],\n",
       "       [1.        , 0.        ],\n",
       "       [0.52      , 0.48      ],\n",
       "       [0.73333333, 0.26666667],\n",
       "       [1.        , 0.        ],\n",
       "       [1.        , 0.        ],\n",
       "       [1.        , 0.        ],\n",
       "       [0.66666667, 0.33333333],\n",
       "       [1.        , 0.        ],\n",
       "       [1.        , 0.        ]])"
      ]
     },
     "execution_count": 50,
     "metadata": {},
     "output_type": "execute_result"
    }
   ],
   "source": [
    "model_1_proba = clf.predict_proba(X_train)\n",
    "model_1_proba[:10]"
   ]
  },
  {
   "cell_type": "code",
   "execution_count": 51,
   "id": "7ba643b2",
   "metadata": {},
   "outputs": [
    {
     "name": "stdout",
     "output_type": "stream",
     "text": [
      "\n",
      "Performance in accuracy of Decision Tree 1 on training data:\n",
      "Accuracy (train): 0.806492518387015\n",
      "Accuracy (validate): 0.76878\n"
     ]
    }
   ],
   "source": [
    "print(f'''\n",
    "Performance in accuracy of Decision Tree 1 on training data:\n",
    "Accuracy (train): {clf.score(X_train, y_train)}\n",
    "Accuracy (validate): {round(clf.score(X_validate, y_validate), 5)}''')"
   ]
  },
  {
   "cell_type": "code",
   "execution_count": null,
   "id": "8b024f2e",
   "metadata": {},
   "outputs": [],
   "source": []
  },
  {
   "cell_type": "markdown",
   "id": "ad555dad",
   "metadata": {},
   "source": [
    "# BARRY "
   ]
  },
  {
   "cell_type": "code",
   "execution_count": 52,
   "id": "73a9c454",
   "metadata": {},
   "outputs": [],
   "source": [
    "from sklearn.ensemble import RandomForestClassifier\n",
    "\n",
    "# make the thing\n",
    "rf1 = RandomForestClassifier(n_estimators=25)\n",
    "# fit the thing\n",
    "# note: if we narrow down the feature in fit:\n",
    "rf1.fit(X_train, y_train)\n",
    "# use the thing\n",
    "# we need to do it on predict as well!!\n",
    "rf1_preds = rf1.predict(X_train)"
   ]
  },
  {
   "cell_type": "code",
   "execution_count": 53,
   "id": "a2ec8ae5",
   "metadata": {
    "scrolled": false
   },
   "outputs": [
    {
     "data": {
      "text/html": [
       "<div>\n",
       "<style scoped>\n",
       "    .dataframe tbody tr th:only-of-type {\n",
       "        vertical-align: middle;\n",
       "    }\n",
       "\n",
       "    .dataframe tbody tr th {\n",
       "        vertical-align: top;\n",
       "    }\n",
       "\n",
       "    .dataframe thead th {\n",
       "        text-align: right;\n",
       "    }\n",
       "</style>\n",
       "<table border=\"1\" class=\"dataframe\">\n",
       "  <thead>\n",
       "    <tr style=\"text-align: right;\">\n",
       "      <th>churn</th>\n",
       "      <th>No</th>\n",
       "      <th>Yes</th>\n",
       "    </tr>\n",
       "    <tr>\n",
       "      <th>row_0</th>\n",
       "      <th></th>\n",
       "      <th></th>\n",
       "    </tr>\n",
       "  </thead>\n",
       "  <tbody>\n",
       "    <tr>\n",
       "      <th>No</th>\n",
       "      <td>2532</td>\n",
       "      <td>402</td>\n",
       "    </tr>\n",
       "    <tr>\n",
       "      <th>Yes</th>\n",
       "      <td>365</td>\n",
       "      <td>644</td>\n",
       "    </tr>\n",
       "  </tbody>\n",
       "</table>\n",
       "</div>"
      ],
      "text/plain": [
       "churn    No  Yes\n",
       "row_0           \n",
       "No     2532  402\n",
       "Yes     365  644"
      ]
     },
     "execution_count": 53,
     "metadata": {},
     "output_type": "execute_result"
    }
   ],
   "source": [
    "pd.crosstab(rf1_preds,y_train) # see the actual survived status is now columns"
   ]
  },
  {
   "cell_type": "code",
   "execution_count": 54,
   "id": "b208fc0c",
   "metadata": {},
   "outputs": [
    {
     "data": {
      "text/plain": [
       "dtype('O')"
      ]
     },
     "execution_count": 54,
     "metadata": {},
     "output_type": "execute_result"
    }
   ],
   "source": [
    "rf1_preds.dtype"
   ]
  },
  {
   "cell_type": "code",
   "execution_count": 55,
   "id": "a9e8d1ef",
   "metadata": {
    "scrolled": true
   },
   "outputs": [
    {
     "name": "stdout",
     "output_type": "stream",
     "text": [
      "              precision    recall  f1-score   support\n",
      "\n",
      "          No       0.86      0.87      0.87      2897\n",
      "         Yes       0.64      0.62      0.63      1046\n",
      "\n",
      "    accuracy                           0.81      3943\n",
      "   macro avg       0.75      0.74      0.75      3943\n",
      "weighted avg       0.80      0.81      0.80      3943\n",
      "\n"
     ]
    }
   ],
   "source": [
    "# classification report:\n",
    "print(\n",
    "    classification_report(y_train,\n",
    "                      rf1_preds))"
   ]
  },
  {
   "cell_type": "code",
   "execution_count": null,
   "id": "e2ccb0e9",
   "metadata": {},
   "outputs": [],
   "source": []
  },
  {
   "cell_type": "code",
   "execution_count": 56,
   "id": "dccc11b8",
   "metadata": {
    "scrolled": true
   },
   "outputs": [
    {
     "data": {
      "text/plain": [
       "array([[1.        , 0.        ],\n",
       "       [0.97333333, 0.02666667],\n",
       "       [0.49855033, 0.50144967],\n",
       "       [0.73590278, 0.26409722],\n",
       "       [1.        , 0.        ],\n",
       "       [1.        , 0.        ],\n",
       "       [1.        , 0.        ],\n",
       "       [0.64304762, 0.35695238],\n",
       "       [1.        , 0.        ],\n",
       "       [1.        , 0.        ]])"
      ]
     },
     "execution_count": 56,
     "metadata": {},
     "output_type": "execute_result"
    }
   ],
   "source": [
    "rf1_proba = rf1.predict_proba(X_train)\n",
    "rf1_proba[:10]"
   ]
  },
  {
   "cell_type": "code",
   "execution_count": null,
   "id": "da7636ec",
   "metadata": {},
   "outputs": [],
   "source": []
  },
  {
   "cell_type": "code",
   "execution_count": 57,
   "id": "078087c2",
   "metadata": {},
   "outputs": [
    {
     "data": {
      "text/html": [
       "<div>\n",
       "<style scoped>\n",
       "    .dataframe tbody tr th:only-of-type {\n",
       "        vertical-align: middle;\n",
       "    }\n",
       "\n",
       "    .dataframe tbody tr th {\n",
       "        vertical-align: top;\n",
       "    }\n",
       "\n",
       "    .dataframe thead th {\n",
       "        text-align: right;\n",
       "    }\n",
       "</style>\n",
       "<table border=\"1\" class=\"dataframe\">\n",
       "  <thead>\n",
       "    <tr style=\"text-align: right;\">\n",
       "      <th>churn</th>\n",
       "      <th>No</th>\n",
       "      <th>Yes</th>\n",
       "    </tr>\n",
       "    <tr>\n",
       "      <th>row_0</th>\n",
       "      <th></th>\n",
       "      <th></th>\n",
       "    </tr>\n",
       "  </thead>\n",
       "  <tbody>\n",
       "    <tr>\n",
       "      <th>No</th>\n",
       "      <td>880</td>\n",
       "      <td>196</td>\n",
       "    </tr>\n",
       "    <tr>\n",
       "      <th>Yes</th>\n",
       "      <td>155</td>\n",
       "      <td>178</td>\n",
       "    </tr>\n",
       "  </tbody>\n",
       "</table>\n",
       "</div>"
      ],
      "text/plain": [
       "churn   No  Yes\n",
       "row_0          \n",
       "No     880  196\n",
       "Yes    155  178"
      ]
     },
     "execution_count": 57,
     "metadata": {},
     "output_type": "execute_result"
    }
   ],
   "source": [
    "barry_preds = rf1.predict(X_test)\n",
    "barry_proba = rf1.predict_proba(X_test)\n",
    "pd.crosstab(barry_preds,y_test) # a confusion matrix with ACTUALS as columns and PREDICTIONS as rows"
   ]
  },
  {
   "cell_type": "code",
   "execution_count": 58,
   "id": "c2aaf110",
   "metadata": {},
   "outputs": [
    {
     "name": "stdout",
     "output_type": "stream",
     "text": [
      "              precision    recall  f1-score   support\n",
      "\n",
      "          No       0.82      0.85      0.83      1035\n",
      "         Yes       0.53      0.48      0.50       374\n",
      "\n",
      "    accuracy                           0.75      1409\n",
      "   macro avg       0.68      0.66      0.67      1409\n",
      "weighted avg       0.74      0.75      0.75      1409\n",
      "\n"
     ]
    }
   ],
   "source": [
    "# here is a classification report with many different measurements and ratios based upon the TEST subset\n",
    "# for our purposes here we will look at ACCURACY (0.76) and RECALL for the YES class (0.45).\n",
    "\n",
    "print(\n",
    "    classification_report(y_test,\n",
    "                      barry_preds))"
   ]
  },
  {
   "cell_type": "code",
   "execution_count": 59,
   "id": "517c7cd4",
   "metadata": {},
   "outputs": [
    {
     "data": {
      "text/html": [
       "<div>\n",
       "<style scoped>\n",
       "    .dataframe tbody tr th:only-of-type {\n",
       "        vertical-align: middle;\n",
       "    }\n",
       "\n",
       "    .dataframe tbody tr th {\n",
       "        vertical-align: top;\n",
       "    }\n",
       "\n",
       "    .dataframe thead th {\n",
       "        text-align: right;\n",
       "    }\n",
       "</style>\n",
       "<table border=\"1\" class=\"dataframe\">\n",
       "  <thead>\n",
       "    <tr style=\"text-align: right;\">\n",
       "      <th>churn</th>\n",
       "      <th>No</th>\n",
       "      <th>Yes</th>\n",
       "    </tr>\n",
       "    <tr>\n",
       "      <th>row_0</th>\n",
       "      <th></th>\n",
       "      <th></th>\n",
       "    </tr>\n",
       "  </thead>\n",
       "  <tbody>\n",
       "    <tr>\n",
       "      <th>No</th>\n",
       "      <td>880</td>\n",
       "      <td>196</td>\n",
       "    </tr>\n",
       "    <tr>\n",
       "      <th>Yes</th>\n",
       "      <td>155</td>\n",
       "      <td>178</td>\n",
       "    </tr>\n",
       "  </tbody>\n",
       "</table>\n",
       "</div>"
      ],
      "text/plain": [
       "churn   No  Yes\n",
       "row_0          \n",
       "No     880  196\n",
       "Yes    155  178"
      ]
     },
     "execution_count": 59,
     "metadata": {},
     "output_type": "execute_result"
    }
   ],
   "source": [
    "pd.crosstab(barry_preds,y_test) # a confusion matrix with ACTUALS as columns and PREDICTIONS as rows"
   ]
  },
  {
   "cell_type": "code",
   "execution_count": 60,
   "id": "b26d04a8",
   "metadata": {},
   "outputs": [
    {
     "data": {
      "text/plain": [
       "array([[0.935     , 0.065     ],\n",
       "       [1.        , 0.        ],\n",
       "       [1.        , 0.        ],\n",
       "       ...,\n",
       "       [0.97      , 0.03      ],\n",
       "       [0.45352381, 0.54647619],\n",
       "       [1.        , 0.        ]])"
      ]
     },
     "execution_count": 60,
     "metadata": {},
     "output_type": "execute_result"
    }
   ],
   "source": [
    "barry_proba"
   ]
  },
  {
   "cell_type": "code",
   "execution_count": null,
   "id": "e1f4e3d3",
   "metadata": {},
   "outputs": [],
   "source": []
  },
  {
   "cell_type": "code",
   "execution_count": 61,
   "id": "95265154",
   "metadata": {},
   "outputs": [
    {
     "data": {
      "text/plain": [
       "(1409, 2)"
      ]
     },
     "execution_count": 61,
     "metadata": {},
     "output_type": "execute_result"
    }
   ],
   "source": [
    "barry_proba.shape"
   ]
  },
  {
   "cell_type": "code",
   "execution_count": 62,
   "id": "d7b2053b",
   "metadata": {},
   "outputs": [
    {
     "data": {
      "text/plain": [
       "array([[0.065     ],\n",
       "       [0.        ],\n",
       "       [0.        ],\n",
       "       ...,\n",
       "       [0.03      ],\n",
       "       [0.54647619],\n",
       "       [0.        ]])"
      ]
     },
     "execution_count": 62,
     "metadata": {},
     "output_type": "execute_result"
    }
   ],
   "source": [
    "churn_proba = barry_proba[:,1:2]\n",
    "churn_proba"
   ]
  },
  {
   "cell_type": "code",
   "execution_count": 63,
   "id": "03d4e130",
   "metadata": {},
   "outputs": [
    {
     "data": {
      "text/plain": [
       "4558    6207-WIOLX\n",
       "4481    6502-KUGLL\n",
       "6373    5465-BUBFA\n",
       "6667    3530-VWVGU\n",
       "3439    9040-KZVWO\n",
       "           ...    \n",
       "828     0960-HUWBM\n",
       "3611    8436-BJUMM\n",
       "6341    5642-MHDQT\n",
       "5376    2937-FTHUR\n",
       "6569    4176-RELJR\n",
       "Name: customer_id, Length: 1409, dtype: object"
      ]
     },
     "execution_count": 63,
     "metadata": {},
     "output_type": "execute_result"
    }
   ],
   "source": [
    "test_cust_id"
   ]
  },
  {
   "cell_type": "code",
   "execution_count": 64,
   "id": "c22208d1",
   "metadata": {},
   "outputs": [
    {
     "data": {
      "text/html": [
       "<div>\n",
       "<style scoped>\n",
       "    .dataframe tbody tr th:only-of-type {\n",
       "        vertical-align: middle;\n",
       "    }\n",
       "\n",
       "    .dataframe tbody tr th {\n",
       "        vertical-align: top;\n",
       "    }\n",
       "\n",
       "    .dataframe thead th {\n",
       "        text-align: right;\n",
       "    }\n",
       "</style>\n",
       "<table border=\"1\" class=\"dataframe\">\n",
       "  <thead>\n",
       "    <tr style=\"text-align: right;\">\n",
       "      <th></th>\n",
       "      <th>cust_id</th>\n",
       "    </tr>\n",
       "  </thead>\n",
       "  <tbody>\n",
       "    <tr>\n",
       "      <th>4558</th>\n",
       "      <td>6207-WIOLX</td>\n",
       "    </tr>\n",
       "    <tr>\n",
       "      <th>4481</th>\n",
       "      <td>6502-KUGLL</td>\n",
       "    </tr>\n",
       "    <tr>\n",
       "      <th>6373</th>\n",
       "      <td>5465-BUBFA</td>\n",
       "    </tr>\n",
       "    <tr>\n",
       "      <th>6667</th>\n",
       "      <td>3530-VWVGU</td>\n",
       "    </tr>\n",
       "    <tr>\n",
       "      <th>3439</th>\n",
       "      <td>9040-KZVWO</td>\n",
       "    </tr>\n",
       "    <tr>\n",
       "      <th>...</th>\n",
       "      <td>...</td>\n",
       "    </tr>\n",
       "    <tr>\n",
       "      <th>828</th>\n",
       "      <td>0960-HUWBM</td>\n",
       "    </tr>\n",
       "    <tr>\n",
       "      <th>3611</th>\n",
       "      <td>8436-BJUMM</td>\n",
       "    </tr>\n",
       "    <tr>\n",
       "      <th>6341</th>\n",
       "      <td>5642-MHDQT</td>\n",
       "    </tr>\n",
       "    <tr>\n",
       "      <th>5376</th>\n",
       "      <td>2937-FTHUR</td>\n",
       "    </tr>\n",
       "    <tr>\n",
       "      <th>6569</th>\n",
       "      <td>4176-RELJR</td>\n",
       "    </tr>\n",
       "  </tbody>\n",
       "</table>\n",
       "<p>1409 rows × 1 columns</p>\n",
       "</div>"
      ],
      "text/plain": [
       "         cust_id\n",
       "4558  6207-WIOLX\n",
       "4481  6502-KUGLL\n",
       "6373  5465-BUBFA\n",
       "6667  3530-VWVGU\n",
       "3439  9040-KZVWO\n",
       "...          ...\n",
       "828   0960-HUWBM\n",
       "3611  8436-BJUMM\n",
       "6341  5642-MHDQT\n",
       "5376  2937-FTHUR\n",
       "6569  4176-RELJR\n",
       "\n",
       "[1409 rows x 1 columns]"
      ]
     },
     "execution_count": 64,
     "metadata": {},
     "output_type": "execute_result"
    }
   ],
   "source": [
    "predictive_df = pd.DataFrame({'cust_id': test_cust_id})\n",
    "predictive_df"
   ]
  },
  {
   "cell_type": "code",
   "execution_count": 65,
   "id": "5527bf04",
   "metadata": {},
   "outputs": [
    {
     "data": {
      "text/html": [
       "<div>\n",
       "<style scoped>\n",
       "    .dataframe tbody tr th:only-of-type {\n",
       "        vertical-align: middle;\n",
       "    }\n",
       "\n",
       "    .dataframe tbody tr th {\n",
       "        vertical-align: top;\n",
       "    }\n",
       "\n",
       "    .dataframe thead th {\n",
       "        text-align: right;\n",
       "    }\n",
       "</style>\n",
       "<table border=\"1\" class=\"dataframe\">\n",
       "  <thead>\n",
       "    <tr style=\"text-align: right;\">\n",
       "      <th></th>\n",
       "      <th>cust_id</th>\n",
       "      <th>proba_churn</th>\n",
       "    </tr>\n",
       "  </thead>\n",
       "  <tbody>\n",
       "    <tr>\n",
       "      <th>4558</th>\n",
       "      <td>6207-WIOLX</td>\n",
       "      <td>0.065000</td>\n",
       "    </tr>\n",
       "    <tr>\n",
       "      <th>4481</th>\n",
       "      <td>6502-KUGLL</td>\n",
       "      <td>0.000000</td>\n",
       "    </tr>\n",
       "    <tr>\n",
       "      <th>6373</th>\n",
       "      <td>5465-BUBFA</td>\n",
       "      <td>0.000000</td>\n",
       "    </tr>\n",
       "    <tr>\n",
       "      <th>6667</th>\n",
       "      <td>3530-VWVGU</td>\n",
       "      <td>0.156846</td>\n",
       "    </tr>\n",
       "    <tr>\n",
       "      <th>3439</th>\n",
       "      <td>9040-KZVWO</td>\n",
       "      <td>0.000000</td>\n",
       "    </tr>\n",
       "    <tr>\n",
       "      <th>...</th>\n",
       "      <td>...</td>\n",
       "      <td>...</td>\n",
       "    </tr>\n",
       "    <tr>\n",
       "      <th>828</th>\n",
       "      <td>0960-HUWBM</td>\n",
       "      <td>0.000000</td>\n",
       "    </tr>\n",
       "    <tr>\n",
       "      <th>3611</th>\n",
       "      <td>8436-BJUMM</td>\n",
       "      <td>0.549292</td>\n",
       "    </tr>\n",
       "    <tr>\n",
       "      <th>6341</th>\n",
       "      <td>5642-MHDQT</td>\n",
       "      <td>0.030000</td>\n",
       "    </tr>\n",
       "    <tr>\n",
       "      <th>5376</th>\n",
       "      <td>2937-FTHUR</td>\n",
       "      <td>0.546476</td>\n",
       "    </tr>\n",
       "    <tr>\n",
       "      <th>6569</th>\n",
       "      <td>4176-RELJR</td>\n",
       "      <td>0.000000</td>\n",
       "    </tr>\n",
       "  </tbody>\n",
       "</table>\n",
       "<p>1409 rows × 2 columns</p>\n",
       "</div>"
      ],
      "text/plain": [
       "         cust_id  proba_churn\n",
       "4558  6207-WIOLX     0.065000\n",
       "4481  6502-KUGLL     0.000000\n",
       "6373  5465-BUBFA     0.000000\n",
       "6667  3530-VWVGU     0.156846\n",
       "3439  9040-KZVWO     0.000000\n",
       "...          ...          ...\n",
       "828   0960-HUWBM     0.000000\n",
       "3611  8436-BJUMM     0.549292\n",
       "6341  5642-MHDQT     0.030000\n",
       "5376  2937-FTHUR     0.546476\n",
       "6569  4176-RELJR     0.000000\n",
       "\n",
       "[1409 rows x 2 columns]"
      ]
     },
     "execution_count": 65,
     "metadata": {},
     "output_type": "execute_result"
    }
   ],
   "source": [
    "predictive_df['proba_churn'] = barry_proba[:,1:2]\n",
    "predictive_df"
   ]
  },
  {
   "cell_type": "code",
   "execution_count": 66,
   "id": "b6ccd6e5",
   "metadata": {},
   "outputs": [
    {
     "data": {
      "text/plain": [
       "dtype('float64')"
      ]
     },
     "execution_count": 66,
     "metadata": {},
     "output_type": "execute_result"
    }
   ],
   "source": [
    "barry_proba.dtype"
   ]
  },
  {
   "cell_type": "code",
   "execution_count": 67,
   "id": "09b96eca",
   "metadata": {},
   "outputs": [
    {
     "data": {
      "text/html": [
       "<div>\n",
       "<style scoped>\n",
       "    .dataframe tbody tr th:only-of-type {\n",
       "        vertical-align: middle;\n",
       "    }\n",
       "\n",
       "    .dataframe tbody tr th {\n",
       "        vertical-align: top;\n",
       "    }\n",
       "\n",
       "    .dataframe thead th {\n",
       "        text-align: right;\n",
       "    }\n",
       "</style>\n",
       "<table border=\"1\" class=\"dataframe\">\n",
       "  <thead>\n",
       "    <tr style=\"text-align: right;\">\n",
       "      <th></th>\n",
       "      <th>cust_id</th>\n",
       "      <th>proba_churn</th>\n",
       "    </tr>\n",
       "  </thead>\n",
       "  <tbody>\n",
       "    <tr>\n",
       "      <th>4558</th>\n",
       "      <td>6207-WIOLX</td>\n",
       "      <td>0.065000</td>\n",
       "    </tr>\n",
       "    <tr>\n",
       "      <th>4481</th>\n",
       "      <td>6502-KUGLL</td>\n",
       "      <td>0.000000</td>\n",
       "    </tr>\n",
       "    <tr>\n",
       "      <th>6373</th>\n",
       "      <td>5465-BUBFA</td>\n",
       "      <td>0.000000</td>\n",
       "    </tr>\n",
       "    <tr>\n",
       "      <th>6667</th>\n",
       "      <td>3530-VWVGU</td>\n",
       "      <td>0.156846</td>\n",
       "    </tr>\n",
       "    <tr>\n",
       "      <th>3439</th>\n",
       "      <td>9040-KZVWO</td>\n",
       "      <td>0.000000</td>\n",
       "    </tr>\n",
       "  </tbody>\n",
       "</table>\n",
       "</div>"
      ],
      "text/plain": [
       "         cust_id  proba_churn\n",
       "4558  6207-WIOLX     0.065000\n",
       "4481  6502-KUGLL     0.000000\n",
       "6373  5465-BUBFA     0.000000\n",
       "6667  3530-VWVGU     0.156846\n",
       "3439  9040-KZVWO     0.000000"
      ]
     },
     "execution_count": 67,
     "metadata": {},
     "output_type": "execute_result"
    }
   ],
   "source": [
    "predictive_df.head()"
   ]
  },
  {
   "cell_type": "code",
   "execution_count": 68,
   "id": "021a4d60",
   "metadata": {},
   "outputs": [
    {
     "data": {
      "text/html": [
       "<div>\n",
       "<style scoped>\n",
       "    .dataframe tbody tr th:only-of-type {\n",
       "        vertical-align: middle;\n",
       "    }\n",
       "\n",
       "    .dataframe tbody tr th {\n",
       "        vertical-align: top;\n",
       "    }\n",
       "\n",
       "    .dataframe thead th {\n",
       "        text-align: right;\n",
       "    }\n",
       "</style>\n",
       "<table border=\"1\" class=\"dataframe\">\n",
       "  <thead>\n",
       "    <tr style=\"text-align: right;\">\n",
       "      <th></th>\n",
       "      <th>cust_id</th>\n",
       "      <th>proba_churn</th>\n",
       "      <th>barry_prediction</th>\n",
       "    </tr>\n",
       "  </thead>\n",
       "  <tbody>\n",
       "    <tr>\n",
       "      <th>4558</th>\n",
       "      <td>6207-WIOLX</td>\n",
       "      <td>0.065000</td>\n",
       "      <td>No</td>\n",
       "    </tr>\n",
       "    <tr>\n",
       "      <th>4481</th>\n",
       "      <td>6502-KUGLL</td>\n",
       "      <td>0.000000</td>\n",
       "      <td>No</td>\n",
       "    </tr>\n",
       "    <tr>\n",
       "      <th>6373</th>\n",
       "      <td>5465-BUBFA</td>\n",
       "      <td>0.000000</td>\n",
       "      <td>No</td>\n",
       "    </tr>\n",
       "    <tr>\n",
       "      <th>6667</th>\n",
       "      <td>3530-VWVGU</td>\n",
       "      <td>0.156846</td>\n",
       "      <td>No</td>\n",
       "    </tr>\n",
       "    <tr>\n",
       "      <th>3439</th>\n",
       "      <td>9040-KZVWO</td>\n",
       "      <td>0.000000</td>\n",
       "      <td>No</td>\n",
       "    </tr>\n",
       "    <tr>\n",
       "      <th>...</th>\n",
       "      <td>...</td>\n",
       "      <td>...</td>\n",
       "      <td>...</td>\n",
       "    </tr>\n",
       "    <tr>\n",
       "      <th>828</th>\n",
       "      <td>0960-HUWBM</td>\n",
       "      <td>0.000000</td>\n",
       "      <td>No</td>\n",
       "    </tr>\n",
       "    <tr>\n",
       "      <th>3611</th>\n",
       "      <td>8436-BJUMM</td>\n",
       "      <td>0.549292</td>\n",
       "      <td>Yes</td>\n",
       "    </tr>\n",
       "    <tr>\n",
       "      <th>6341</th>\n",
       "      <td>5642-MHDQT</td>\n",
       "      <td>0.030000</td>\n",
       "      <td>No</td>\n",
       "    </tr>\n",
       "    <tr>\n",
       "      <th>5376</th>\n",
       "      <td>2937-FTHUR</td>\n",
       "      <td>0.546476</td>\n",
       "      <td>Yes</td>\n",
       "    </tr>\n",
       "    <tr>\n",
       "      <th>6569</th>\n",
       "      <td>4176-RELJR</td>\n",
       "      <td>0.000000</td>\n",
       "      <td>No</td>\n",
       "    </tr>\n",
       "  </tbody>\n",
       "</table>\n",
       "<p>1409 rows × 3 columns</p>\n",
       "</div>"
      ],
      "text/plain": [
       "         cust_id  proba_churn barry_prediction\n",
       "4558  6207-WIOLX     0.065000               No\n",
       "4481  6502-KUGLL     0.000000               No\n",
       "6373  5465-BUBFA     0.000000               No\n",
       "6667  3530-VWVGU     0.156846               No\n",
       "3439  9040-KZVWO     0.000000               No\n",
       "...          ...          ...              ...\n",
       "828   0960-HUWBM     0.000000               No\n",
       "3611  8436-BJUMM     0.549292              Yes\n",
       "6341  5642-MHDQT     0.030000               No\n",
       "5376  2937-FTHUR     0.546476              Yes\n",
       "6569  4176-RELJR     0.000000               No\n",
       "\n",
       "[1409 rows x 3 columns]"
      ]
     },
     "execution_count": 68,
     "metadata": {},
     "output_type": "execute_result"
    }
   ],
   "source": [
    "predictive_df['barry_prediction'] = barry_preds\n",
    "\n",
    "predictive_df"
   ]
  },
  {
   "cell_type": "code",
   "execution_count": 79,
   "id": "e3fa5396",
   "metadata": {},
   "outputs": [
    {
     "data": {
      "text/html": [
       "<div>\n",
       "<style scoped>\n",
       "    .dataframe tbody tr th:only-of-type {\n",
       "        vertical-align: middle;\n",
       "    }\n",
       "\n",
       "    .dataframe tbody tr th {\n",
       "        vertical-align: top;\n",
       "    }\n",
       "\n",
       "    .dataframe thead th {\n",
       "        text-align: right;\n",
       "    }\n",
       "</style>\n",
       "<table border=\"1\" class=\"dataframe\">\n",
       "  <thead>\n",
       "    <tr style=\"text-align: right;\">\n",
       "      <th></th>\n",
       "      <th>cust_id</th>\n",
       "      <th>proba_churn</th>\n",
       "      <th>barry_prediction</th>\n",
       "      <th>prediction</th>\n",
       "    </tr>\n",
       "  </thead>\n",
       "  <tbody>\n",
       "    <tr>\n",
       "      <th>4558</th>\n",
       "      <td>6207-WIOLX</td>\n",
       "      <td>0.065000</td>\n",
       "      <td>No</td>\n",
       "      <td>0</td>\n",
       "    </tr>\n",
       "    <tr>\n",
       "      <th>4481</th>\n",
       "      <td>6502-KUGLL</td>\n",
       "      <td>0.000000</td>\n",
       "      <td>No</td>\n",
       "      <td>0</td>\n",
       "    </tr>\n",
       "    <tr>\n",
       "      <th>6373</th>\n",
       "      <td>5465-BUBFA</td>\n",
       "      <td>0.000000</td>\n",
       "      <td>No</td>\n",
       "      <td>0</td>\n",
       "    </tr>\n",
       "    <tr>\n",
       "      <th>6667</th>\n",
       "      <td>3530-VWVGU</td>\n",
       "      <td>0.156846</td>\n",
       "      <td>No</td>\n",
       "      <td>0</td>\n",
       "    </tr>\n",
       "    <tr>\n",
       "      <th>3439</th>\n",
       "      <td>9040-KZVWO</td>\n",
       "      <td>0.000000</td>\n",
       "      <td>No</td>\n",
       "      <td>0</td>\n",
       "    </tr>\n",
       "    <tr>\n",
       "      <th>...</th>\n",
       "      <td>...</td>\n",
       "      <td>...</td>\n",
       "      <td>...</td>\n",
       "      <td>...</td>\n",
       "    </tr>\n",
       "    <tr>\n",
       "      <th>828</th>\n",
       "      <td>0960-HUWBM</td>\n",
       "      <td>0.000000</td>\n",
       "      <td>No</td>\n",
       "      <td>0</td>\n",
       "    </tr>\n",
       "    <tr>\n",
       "      <th>3611</th>\n",
       "      <td>8436-BJUMM</td>\n",
       "      <td>0.549292</td>\n",
       "      <td>Yes</td>\n",
       "      <td>1</td>\n",
       "    </tr>\n",
       "    <tr>\n",
       "      <th>6341</th>\n",
       "      <td>5642-MHDQT</td>\n",
       "      <td>0.030000</td>\n",
       "      <td>No</td>\n",
       "      <td>0</td>\n",
       "    </tr>\n",
       "    <tr>\n",
       "      <th>5376</th>\n",
       "      <td>2937-FTHUR</td>\n",
       "      <td>0.546476</td>\n",
       "      <td>Yes</td>\n",
       "      <td>1</td>\n",
       "    </tr>\n",
       "    <tr>\n",
       "      <th>6569</th>\n",
       "      <td>4176-RELJR</td>\n",
       "      <td>0.000000</td>\n",
       "      <td>No</td>\n",
       "      <td>0</td>\n",
       "    </tr>\n",
       "  </tbody>\n",
       "</table>\n",
       "<p>1409 rows × 4 columns</p>\n",
       "</div>"
      ],
      "text/plain": [
       "         cust_id  proba_churn barry_prediction  prediction\n",
       "4558  6207-WIOLX     0.065000               No           0\n",
       "4481  6502-KUGLL     0.000000               No           0\n",
       "6373  5465-BUBFA     0.000000               No           0\n",
       "6667  3530-VWVGU     0.156846               No           0\n",
       "3439  9040-KZVWO     0.000000               No           0\n",
       "...          ...          ...              ...         ...\n",
       "828   0960-HUWBM     0.000000               No           0\n",
       "3611  8436-BJUMM     0.549292              Yes           1\n",
       "6341  5642-MHDQT     0.030000               No           0\n",
       "5376  2937-FTHUR     0.546476              Yes           1\n",
       "6569  4176-RELJR     0.000000               No           0\n",
       "\n",
       "[1409 rows x 4 columns]"
      ]
     },
     "execution_count": 79,
     "metadata": {},
     "output_type": "execute_result"
    }
   ],
   "source": [
    "predictive_df['prediction'] = predictive_df['barry_prediction'].map(\n",
    "                   {'Yes':1 ,'No':0}).astype(int)\n",
    "predictive_df"
   ]
  },
  {
   "cell_type": "code",
   "execution_count": 87,
   "id": "af580862",
   "metadata": {},
   "outputs": [
    {
     "data": {
      "text/plain": [
       "0.23633782824698368"
      ]
     },
     "execution_count": 87,
     "metadata": {},
     "output_type": "execute_result"
    }
   ],
   "source": [
    "predictive_df.prediction.mean()"
   ]
  },
  {
   "cell_type": "code",
   "execution_count": 85,
   "id": "0242176a",
   "metadata": {},
   "outputs": [],
   "source": [
    "predictive_df.drop(columns='barry_prediction',inplace=True)"
   ]
  },
  {
   "cell_type": "code",
   "execution_count": 88,
   "id": "76473101",
   "metadata": {},
   "outputs": [
    {
     "data": {
      "text/html": [
       "<div>\n",
       "<style scoped>\n",
       "    .dataframe tbody tr th:only-of-type {\n",
       "        vertical-align: middle;\n",
       "    }\n",
       "\n",
       "    .dataframe tbody tr th {\n",
       "        vertical-align: top;\n",
       "    }\n",
       "\n",
       "    .dataframe thead th {\n",
       "        text-align: right;\n",
       "    }\n",
       "</style>\n",
       "<table border=\"1\" class=\"dataframe\">\n",
       "  <thead>\n",
       "    <tr style=\"text-align: right;\">\n",
       "      <th></th>\n",
       "      <th>cust_id</th>\n",
       "      <th>proba_churn</th>\n",
       "      <th>prediction</th>\n",
       "    </tr>\n",
       "  </thead>\n",
       "  <tbody>\n",
       "    <tr>\n",
       "      <th>4558</th>\n",
       "      <td>6207-WIOLX</td>\n",
       "      <td>0.065000</td>\n",
       "      <td>0</td>\n",
       "    </tr>\n",
       "    <tr>\n",
       "      <th>4481</th>\n",
       "      <td>6502-KUGLL</td>\n",
       "      <td>0.000000</td>\n",
       "      <td>0</td>\n",
       "    </tr>\n",
       "    <tr>\n",
       "      <th>6373</th>\n",
       "      <td>5465-BUBFA</td>\n",
       "      <td>0.000000</td>\n",
       "      <td>0</td>\n",
       "    </tr>\n",
       "    <tr>\n",
       "      <th>6667</th>\n",
       "      <td>3530-VWVGU</td>\n",
       "      <td>0.156846</td>\n",
       "      <td>0</td>\n",
       "    </tr>\n",
       "    <tr>\n",
       "      <th>3439</th>\n",
       "      <td>9040-KZVWO</td>\n",
       "      <td>0.000000</td>\n",
       "      <td>0</td>\n",
       "    </tr>\n",
       "    <tr>\n",
       "      <th>...</th>\n",
       "      <td>...</td>\n",
       "      <td>...</td>\n",
       "      <td>...</td>\n",
       "    </tr>\n",
       "    <tr>\n",
       "      <th>828</th>\n",
       "      <td>0960-HUWBM</td>\n",
       "      <td>0.000000</td>\n",
       "      <td>0</td>\n",
       "    </tr>\n",
       "    <tr>\n",
       "      <th>3611</th>\n",
       "      <td>8436-BJUMM</td>\n",
       "      <td>0.549292</td>\n",
       "      <td>1</td>\n",
       "    </tr>\n",
       "    <tr>\n",
       "      <th>6341</th>\n",
       "      <td>5642-MHDQT</td>\n",
       "      <td>0.030000</td>\n",
       "      <td>0</td>\n",
       "    </tr>\n",
       "    <tr>\n",
       "      <th>5376</th>\n",
       "      <td>2937-FTHUR</td>\n",
       "      <td>0.546476</td>\n",
       "      <td>1</td>\n",
       "    </tr>\n",
       "    <tr>\n",
       "      <th>6569</th>\n",
       "      <td>4176-RELJR</td>\n",
       "      <td>0.000000</td>\n",
       "      <td>0</td>\n",
       "    </tr>\n",
       "  </tbody>\n",
       "</table>\n",
       "<p>1409 rows × 3 columns</p>\n",
       "</div>"
      ],
      "text/plain": [
       "         cust_id  proba_churn  prediction\n",
       "4558  6207-WIOLX     0.065000           0\n",
       "4481  6502-KUGLL     0.000000           0\n",
       "6373  5465-BUBFA     0.000000           0\n",
       "6667  3530-VWVGU     0.156846           0\n",
       "3439  9040-KZVWO     0.000000           0\n",
       "...          ...          ...         ...\n",
       "828   0960-HUWBM     0.000000           0\n",
       "3611  8436-BJUMM     0.549292           1\n",
       "6341  5642-MHDQT     0.030000           0\n",
       "5376  2937-FTHUR     0.546476           1\n",
       "6569  4176-RELJR     0.000000           0\n",
       "\n",
       "[1409 rows x 3 columns]"
      ]
     },
     "execution_count": 88,
     "metadata": {},
     "output_type": "execute_result"
    }
   ],
   "source": [
    "predictive_df"
   ]
  },
  {
   "cell_type": "code",
   "execution_count": 92,
   "id": "44bec735",
   "metadata": {},
   "outputs": [],
   "source": [
    "predictive_df.to_csv('predictions.csv',index=False)"
   ]
  },
  {
   "cell_type": "code",
   "execution_count": null,
   "id": "01268f1e",
   "metadata": {},
   "outputs": [],
   "source": []
  },
  {
   "cell_type": "code",
   "execution_count": null,
   "id": "9c150af1",
   "metadata": {},
   "outputs": [],
   "source": []
  },
  {
   "cell_type": "code",
   "execution_count": null,
   "id": "33ed7fb6",
   "metadata": {
    "scrolled": true
   },
   "outputs": [],
   "source": [
    "print(f'''\n",
    "Performance in accuracy of Random Forest 1 on training data:\n",
    "Accuracy (train): {rf.score(X_train, y_train)}\n",
    "Accuracy (validate): {round(rf.score(X_validate, y_validate), 5)}''')"
   ]
  },
  {
   "cell_type": "code",
   "execution_count": null,
   "id": "9f11ab2a",
   "metadata": {},
   "outputs": [],
   "source": [
    "# make the thing\n",
    "rf = RandomForestClassifier(n_estimators=101)\n",
    "# fit the thing\n",
    "# note: if we narrow down the feature in fit:\n",
    "rf.fit(X_train, y_train)\n",
    "# use the thing\n",
    "# we need to do it on predict as well!!\n",
    "rf2_preds = rf.predict(X_train)"
   ]
  },
  {
   "cell_type": "code",
   "execution_count": null,
   "id": "018d93bb",
   "metadata": {
    "scrolled": true
   },
   "outputs": [],
   "source": [
    "pd.crosstab(rf2_preds,y_train) # see the actual survived status is now columns"
   ]
  },
  {
   "cell_type": "code",
   "execution_count": null,
   "id": "40cb3da5",
   "metadata": {},
   "outputs": [],
   "source": [
    "# classification report:\n",
    "print(\n",
    "    classification_report(y_train,\n",
    "                      rf2_preds))"
   ]
  },
  {
   "cell_type": "code",
   "execution_count": null,
   "id": "5be08b72",
   "metadata": {},
   "outputs": [],
   "source": [
    "rf2_proba = rf.predict_proba(X_train)\n",
    "rf2_proba[:10]"
   ]
  },
  {
   "cell_type": "code",
   "execution_count": null,
   "id": "30fe99e0",
   "metadata": {},
   "outputs": [],
   "source": [
    "print(f'''\n",
    "Performance in accuracy of Random Forest 1 on training data:\n",
    "Accuracy (train): {rf.score(X_train, y_train)}\n",
    "Accuracy (validate): {round(rf.score(X_validate, y_validate), 5)}''')"
   ]
  },
  {
   "cell_type": "markdown",
   "id": "361238c5",
   "metadata": {},
   "source": [
    "#### OK, OPTIMIZE ..."
   ]
  },
  {
   "cell_type": "code",
   "execution_count": null,
   "id": "296a95c9",
   "metadata": {},
   "outputs": [],
   "source": []
  },
  {
   "cell_type": "code",
   "execution_count": null,
   "id": "9ea4d5ad",
   "metadata": {},
   "outputs": [],
   "source": []
  },
  {
   "cell_type": "code",
   "execution_count": null,
   "id": "c8df9c65",
   "metadata": {},
   "outputs": [],
   "source": [
    "# make the thing\n",
    "clf = DecisionTreeClassifier(min_samples_leaf=101)\n",
    "clf.fit(X_train, y_train)\n",
    "model_1_preds = clf.predict(X_train)\n",
    "model_1_preds[:10]"
   ]
  },
  {
   "cell_type": "code",
   "execution_count": null,
   "id": "b6db37f6",
   "metadata": {
    "scrolled": true
   },
   "outputs": [],
   "source": [
    "model_1_proba = clf.predict_proba(X_train)\n",
    "model_1_proba[:10]"
   ]
  },
  {
   "cell_type": "code",
   "execution_count": null,
   "id": "c5450860",
   "metadata": {
    "scrolled": false
   },
   "outputs": [],
   "source": [
    "pd.crosstab(model_1_preds,y_train) # see the actual survived status is now columns"
   ]
  },
  {
   "cell_type": "code",
   "execution_count": null,
   "id": "d51ec1e2",
   "metadata": {},
   "outputs": [],
   "source": [
    "# classification report:\n",
    "print(\n",
    "    classification_report(y_train,\n",
    "                      model_1_preds))"
   ]
  },
  {
   "cell_type": "code",
   "execution_count": null,
   "id": "5e0c663d",
   "metadata": {},
   "outputs": [],
   "source": [
    "print(f'''\n",
    "Performance in accuracy of Decision Tree 1 on training data:\n",
    "Accuracy (train): {clf.score(X_train, y_train)}\n",
    "Accuracy (validate): {round(clf.score(X_validate, y_validate), 5)}''')"
   ]
  },
  {
   "cell_type": "code",
   "execution_count": null,
   "id": "fd375bda",
   "metadata": {},
   "outputs": [],
   "source": []
  },
  {
   "cell_type": "code",
   "execution_count": null,
   "id": "97c47c30",
   "metadata": {},
   "outputs": [],
   "source": [
    "# make the thing\n",
    "clf = DecisionTreeClassifier(min_samples_leaf=51)\n",
    "clf.fit(X_train, y_train)\n",
    "model_2_preds = clf.predict(X_train)\n",
    "model_2_preds[:10]"
   ]
  },
  {
   "cell_type": "code",
   "execution_count": null,
   "id": "e23a7f7f",
   "metadata": {
    "scrolled": true
   },
   "outputs": [],
   "source": [
    "model_2_proba = clf.predict_proba(X_train)\n",
    "model_2_proba[:10]"
   ]
  },
  {
   "cell_type": "code",
   "execution_count": null,
   "id": "32952b4f",
   "metadata": {
    "scrolled": false
   },
   "outputs": [],
   "source": [
    "pd.crosstab(model_2_preds,y_train) # see the actual survived status is now columns"
   ]
  },
  {
   "cell_type": "code",
   "execution_count": null,
   "id": "c9163707",
   "metadata": {},
   "outputs": [],
   "source": [
    "# classification report:\n",
    "print(\n",
    "    classification_report(y_train,\n",
    "                      model_2_preds))"
   ]
  },
  {
   "cell_type": "code",
   "execution_count": null,
   "id": "d9e5d1f1",
   "metadata": {},
   "outputs": [],
   "source": [
    "print(f'''\n",
    "Performance in accuracy of Decision Tree 1 on training data:\n",
    "Accuracy (train): {clf.score(X_train, y_train)}\n",
    "Accuracy (validate): {round(clf.score(X_validate, y_validate), 5)}''')"
   ]
  },
  {
   "cell_type": "code",
   "execution_count": null,
   "id": "7835fe3c",
   "metadata": {},
   "outputs": [],
   "source": []
  },
  {
   "cell_type": "code",
   "execution_count": null,
   "id": "bd03d46a",
   "metadata": {},
   "outputs": [],
   "source": [
    "# make the thing\n",
    "rf = RandomForestClassifier(n_estimators=101,max_depth=4)\n",
    "# fit the thing\n",
    "# note: if we narrow down the feature in fit:\n",
    "rf.fit(X_train, y_train)\n",
    "# use the thing\n",
    "# we need to do it on predict as well!!\n",
    "rf3_preds = rf.predict(X_train)"
   ]
  },
  {
   "cell_type": "code",
   "execution_count": null,
   "id": "4352707e",
   "metadata": {
    "scrolled": false
   },
   "outputs": [],
   "source": [
    "pd.crosstab(rf3_preds,y_train) # see the actual survived status is now columns"
   ]
  },
  {
   "cell_type": "code",
   "execution_count": null,
   "id": "10d749f0",
   "metadata": {},
   "outputs": [],
   "source": [
    "# classification report:\n",
    "print(\n",
    "    classification_report(y_train,\n",
    "                      rf3_preds))"
   ]
  },
  {
   "cell_type": "code",
   "execution_count": null,
   "id": "fe8256c5",
   "metadata": {},
   "outputs": [],
   "source": [
    "rf3_proba = rf.predict_proba(X_train)\n",
    "rf3_proba[:10]"
   ]
  },
  {
   "cell_type": "code",
   "execution_count": null,
   "id": "b8b21c40",
   "metadata": {},
   "outputs": [],
   "source": [
    "print(f'''\n",
    "Performance in accuracy of Random Forest 1 on training data:\n",
    "Accuracy (train): {rf.score(X_train, y_train)}\n",
    "Accuracy (validate): {round(rf.score(X_validate, y_validate), 5)}''')"
   ]
  },
  {
   "cell_type": "code",
   "execution_count": null,
   "id": "4f8c7f83",
   "metadata": {},
   "outputs": [],
   "source": []
  },
  {
   "cell_type": "code",
   "execution_count": null,
   "id": "d6178e0b",
   "metadata": {},
   "outputs": [],
   "source": [
    "# make the thing\n",
    "rf = RandomForestClassifier(n_estimators=101,max_depth=2)\n",
    "# fit the thing\n",
    "# note: if we narrow down the feature in fit:\n",
    "rf.fit(X_train, y_train)\n",
    "# use the thing\n",
    "# we need to do it on predict as well!!\n",
    "rf4_preds = rf.predict(X_train)"
   ]
  },
  {
   "cell_type": "code",
   "execution_count": null,
   "id": "5c26ef7d",
   "metadata": {
    "scrolled": false
   },
   "outputs": [],
   "source": [
    "pd.crosstab(rf4_preds,y_train) # see the actual survived status is now columns"
   ]
  },
  {
   "cell_type": "code",
   "execution_count": null,
   "id": "853591b3",
   "metadata": {},
   "outputs": [],
   "source": [
    "# classification report:\n",
    "print(\n",
    "    classification_report(y_train,\n",
    "                      rf4_preds))"
   ]
  },
  {
   "cell_type": "code",
   "execution_count": null,
   "id": "96f5e566",
   "metadata": {},
   "outputs": [],
   "source": [
    "rf4_proba = rf.predict_proba(X_train)\n",
    "rf4_proba[:10]"
   ]
  },
  {
   "cell_type": "code",
   "execution_count": null,
   "id": "ad2ba564",
   "metadata": {},
   "outputs": [],
   "source": [
    "np.unique(rf4_preds,return_counts=True)"
   ]
  },
  {
   "cell_type": "code",
   "execution_count": null,
   "id": "6e4f6975",
   "metadata": {},
   "outputs": [],
   "source": [
    "print(f'''\n",
    "Performance in accuracy of Random Forest 1 on training data:\n",
    "Accuracy (train): {rf.score(X_train, y_train)}\n",
    "Accuracy (validate): {round(rf.score(X_validate, y_validate), 5)}''')"
   ]
  },
  {
   "cell_type": "markdown",
   "id": "9fc982b6",
   "metadata": {},
   "source": [
    "## CREATE A df to turn into a .csv titled PREDICTIONS with 3 cols"
   ]
  },
  {
   "cell_type": "code",
   "execution_count": null,
   "id": "4efbb0d8",
   "metadata": {},
   "outputs": [],
   "source": []
  },
  {
   "cell_type": "code",
   "execution_count": null,
   "id": "043d9917",
   "metadata": {},
   "outputs": [],
   "source": []
  },
  {
   "cell_type": "code",
   "execution_count": null,
   "id": "4511e8cf",
   "metadata": {},
   "outputs": [],
   "source": [
    "predictive_df.head()"
   ]
  },
  {
   "cell_type": "code",
   "execution_count": null,
   "id": "ca5486ac",
   "metadata": {},
   "outputs": [],
   "source": [
    "predictive_df.prediction.mean()"
   ]
  }
 ],
 "metadata": {
  "kernelspec": {
   "display_name": "Python 3 (ipykernel)",
   "language": "python",
   "name": "python3"
  },
  "language_info": {
   "codemirror_mode": {
    "name": "ipython",
    "version": 3
   },
   "file_extension": ".py",
   "mimetype": "text/x-python",
   "name": "python",
   "nbconvert_exporter": "python",
   "pygments_lexer": "ipython3",
   "version": "3.9.13"
  }
 },
 "nbformat": 4,
 "nbformat_minor": 5
}
