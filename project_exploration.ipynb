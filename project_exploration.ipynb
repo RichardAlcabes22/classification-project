{
 "cells": [
  {
   "cell_type": "code",
   "execution_count": 1,
   "id": "46dd1cd7",
   "metadata": {},
   "outputs": [],
   "source": [
    "# DS Libraries\n",
    "import pandas as pd\n",
    "import numpy as np\n",
    "from scipy import stats\n",
    "# Data visualization\n",
    "import matplotlib.pyplot as plt\n",
    "import seaborn as sns\n",
    "\n",
    "# knn submodules from scikit learn\n",
    "from sklearn.model_selection import train_test_split\n",
    "from sklearn.neighbors import KNeighborsClassifier\n",
    "from sklearn.metrics import classification_report, confusion_matrix, plot_confusion_matrix\n",
    "from sklearn.linear_model import LogisticRegression\n",
    "\n",
    "# Data Acquisition\n",
    "from pydataset import data\n",
    "import env\n",
    "import acquire as acq\n",
    "import prepare as prp\n",
    "\n",
    "#Modeling\n",
    "from sklearn.tree import DecisionTreeClassifier,\\\n",
    "export_text, \\\n",
    "plot_tree\n",
    "from sklearn.metrics import accuracy_score, \\\n",
    "classification_report, \\\n",
    "confusion_matrix\n",
    "from sklearn.model_selection import train_test_split"
   ]
  },
  {
   "cell_type": "code",
   "execution_count": 2,
   "id": "81a4ed11",
   "metadata": {
    "scrolled": true
   },
   "outputs": [
    {
     "data": {
      "text/html": [
       "<div>\n",
       "<style scoped>\n",
       "    .dataframe tbody tr th:only-of-type {\n",
       "        vertical-align: middle;\n",
       "    }\n",
       "\n",
       "    .dataframe tbody tr th {\n",
       "        vertical-align: top;\n",
       "    }\n",
       "\n",
       "    .dataframe thead th {\n",
       "        text-align: right;\n",
       "    }\n",
       "</style>\n",
       "<table border=\"1\" class=\"dataframe\">\n",
       "  <thead>\n",
       "    <tr style=\"text-align: right;\">\n",
       "      <th></th>\n",
       "      <th>payment_type_id</th>\n",
       "      <th>internet_service_type_id</th>\n",
       "      <th>contract_type_id</th>\n",
       "      <th>customer_id</th>\n",
       "      <th>gender</th>\n",
       "      <th>senior_citizen</th>\n",
       "      <th>partner</th>\n",
       "      <th>dependents</th>\n",
       "      <th>tenure</th>\n",
       "      <th>phone_service</th>\n",
       "      <th>...</th>\n",
       "      <th>tech_support</th>\n",
       "      <th>streaming_tv</th>\n",
       "      <th>streaming_movies</th>\n",
       "      <th>paperless_billing</th>\n",
       "      <th>monthly_charges</th>\n",
       "      <th>total_charges</th>\n",
       "      <th>churn</th>\n",
       "      <th>contract_type</th>\n",
       "      <th>internet_service_type</th>\n",
       "      <th>payment_type</th>\n",
       "    </tr>\n",
       "  </thead>\n",
       "  <tbody>\n",
       "    <tr>\n",
       "      <th>0</th>\n",
       "      <td>3</td>\n",
       "      <td>1</td>\n",
       "      <td>3</td>\n",
       "      <td>2162-FRZAA</td>\n",
       "      <td>Male</td>\n",
       "      <td>0</td>\n",
       "      <td>Yes</td>\n",
       "      <td>Yes</td>\n",
       "      <td>63</td>\n",
       "      <td>No</td>\n",
       "      <td>...</td>\n",
       "      <td>Yes</td>\n",
       "      <td>No</td>\n",
       "      <td>No</td>\n",
       "      <td>No</td>\n",
       "      <td>39.35</td>\n",
       "      <td>2395.05</td>\n",
       "      <td>No</td>\n",
       "      <td>Two year</td>\n",
       "      <td>DSL</td>\n",
       "      <td>Bank transfer (automatic)</td>\n",
       "    </tr>\n",
       "    <tr>\n",
       "      <th>1</th>\n",
       "      <td>4</td>\n",
       "      <td>1</td>\n",
       "      <td>3</td>\n",
       "      <td>2160-GPFXD</td>\n",
       "      <td>Male</td>\n",
       "      <td>0</td>\n",
       "      <td>Yes</td>\n",
       "      <td>Yes</td>\n",
       "      <td>54</td>\n",
       "      <td>Yes</td>\n",
       "      <td>...</td>\n",
       "      <td>Yes</td>\n",
       "      <td>No</td>\n",
       "      <td>No</td>\n",
       "      <td>Yes</td>\n",
       "      <td>65.65</td>\n",
       "      <td>3566.7</td>\n",
       "      <td>No</td>\n",
       "      <td>Two year</td>\n",
       "      <td>DSL</td>\n",
       "      <td>Credit card (automatic)</td>\n",
       "    </tr>\n",
       "    <tr>\n",
       "      <th>2</th>\n",
       "      <td>2</td>\n",
       "      <td>1</td>\n",
       "      <td>2</td>\n",
       "      <td>2157-MXBJS</td>\n",
       "      <td>Male</td>\n",
       "      <td>0</td>\n",
       "      <td>Yes</td>\n",
       "      <td>No</td>\n",
       "      <td>13</td>\n",
       "      <td>Yes</td>\n",
       "      <td>...</td>\n",
       "      <td>No</td>\n",
       "      <td>Yes</td>\n",
       "      <td>Yes</td>\n",
       "      <td>Yes</td>\n",
       "      <td>75.30</td>\n",
       "      <td>989.45</td>\n",
       "      <td>Yes</td>\n",
       "      <td>One year</td>\n",
       "      <td>DSL</td>\n",
       "      <td>Mailed check</td>\n",
       "    </tr>\n",
       "    <tr>\n",
       "      <th>3</th>\n",
       "      <td>4</td>\n",
       "      <td>1</td>\n",
       "      <td>1</td>\n",
       "      <td>2155-AMQRX</td>\n",
       "      <td>Female</td>\n",
       "      <td>0</td>\n",
       "      <td>No</td>\n",
       "      <td>No</td>\n",
       "      <td>28</td>\n",
       "      <td>Yes</td>\n",
       "      <td>...</td>\n",
       "      <td>Yes</td>\n",
       "      <td>No</td>\n",
       "      <td>No</td>\n",
       "      <td>Yes</td>\n",
       "      <td>54.90</td>\n",
       "      <td>1505.15</td>\n",
       "      <td>No</td>\n",
       "      <td>Month-to-month</td>\n",
       "      <td>DSL</td>\n",
       "      <td>Credit card (automatic)</td>\n",
       "    </tr>\n",
       "    <tr>\n",
       "      <th>4</th>\n",
       "      <td>3</td>\n",
       "      <td>1</td>\n",
       "      <td>2</td>\n",
       "      <td>2150-WLKUW</td>\n",
       "      <td>Female</td>\n",
       "      <td>0</td>\n",
       "      <td>Yes</td>\n",
       "      <td>No</td>\n",
       "      <td>40</td>\n",
       "      <td>Yes</td>\n",
       "      <td>...</td>\n",
       "      <td>No</td>\n",
       "      <td>Yes</td>\n",
       "      <td>No</td>\n",
       "      <td>No</td>\n",
       "      <td>63.90</td>\n",
       "      <td>2635</td>\n",
       "      <td>No</td>\n",
       "      <td>One year</td>\n",
       "      <td>DSL</td>\n",
       "      <td>Bank transfer (automatic)</td>\n",
       "    </tr>\n",
       "  </tbody>\n",
       "</table>\n",
       "<p>5 rows × 24 columns</p>\n",
       "</div>"
      ],
      "text/plain": [
       "   payment_type_id  internet_service_type_id  contract_type_id customer_id  \\\n",
       "0                3                         1                 3  2162-FRZAA   \n",
       "1                4                         1                 3  2160-GPFXD   \n",
       "2                2                         1                 2  2157-MXBJS   \n",
       "3                4                         1                 1  2155-AMQRX   \n",
       "4                3                         1                 2  2150-WLKUW   \n",
       "\n",
       "   gender  senior_citizen partner dependents  tenure phone_service  ...  \\\n",
       "0    Male               0     Yes        Yes      63            No  ...   \n",
       "1    Male               0     Yes        Yes      54           Yes  ...   \n",
       "2    Male               0     Yes         No      13           Yes  ...   \n",
       "3  Female               0      No         No      28           Yes  ...   \n",
       "4  Female               0     Yes         No      40           Yes  ...   \n",
       "\n",
       "  tech_support streaming_tv streaming_movies paperless_billing  \\\n",
       "0          Yes           No               No                No   \n",
       "1          Yes           No               No               Yes   \n",
       "2           No          Yes              Yes               Yes   \n",
       "3          Yes           No               No               Yes   \n",
       "4           No          Yes               No                No   \n",
       "\n",
       "  monthly_charges total_charges churn   contract_type  internet_service_type  \\\n",
       "0           39.35       2395.05    No        Two year                    DSL   \n",
       "1           65.65        3566.7    No        Two year                    DSL   \n",
       "2           75.30        989.45   Yes        One year                    DSL   \n",
       "3           54.90       1505.15    No  Month-to-month                    DSL   \n",
       "4           63.90          2635    No        One year                    DSL   \n",
       "\n",
       "                payment_type  \n",
       "0  Bank transfer (automatic)  \n",
       "1    Credit card (automatic)  \n",
       "2               Mailed check  \n",
       "3    Credit card (automatic)  \n",
       "4  Bank transfer (automatic)  \n",
       "\n",
       "[5 rows x 24 columns]"
      ]
     },
     "execution_count": 2,
     "metadata": {},
     "output_type": "execute_result"
    }
   ],
   "source": [
    "# load telco via acquire.py\n",
    "df = acq.new_telco_data()\n",
    "df.head()"
   ]
  },
  {
   "cell_type": "code",
   "execution_count": null,
   "id": "231ceca1",
   "metadata": {},
   "outputs": [],
   "source": [
    "df.info()"
   ]
  },
  {
   "cell_type": "code",
   "execution_count": 3,
   "id": "c0b09b3d",
   "metadata": {
    "scrolled": true
   },
   "outputs": [
    {
     "data": {
      "text/html": [
       "<div>\n",
       "<style scoped>\n",
       "    .dataframe tbody tr th:only-of-type {\n",
       "        vertical-align: middle;\n",
       "    }\n",
       "\n",
       "    .dataframe tbody tr th {\n",
       "        vertical-align: top;\n",
       "    }\n",
       "\n",
       "    .dataframe thead th {\n",
       "        text-align: right;\n",
       "    }\n",
       "</style>\n",
       "<table border=\"1\" class=\"dataframe\">\n",
       "  <thead>\n",
       "    <tr style=\"text-align: right;\">\n",
       "      <th></th>\n",
       "      <th>payment_type_id</th>\n",
       "      <th>internet_service_type_id</th>\n",
       "      <th>contract_type_id</th>\n",
       "      <th>gender</th>\n",
       "      <th>senior_citizen</th>\n",
       "      <th>partner</th>\n",
       "      <th>dependents</th>\n",
       "      <th>tenure</th>\n",
       "      <th>phone_service</th>\n",
       "      <th>multiple_lines</th>\n",
       "      <th>...</th>\n",
       "      <th>device_protection</th>\n",
       "      <th>tech_support</th>\n",
       "      <th>streaming_tv</th>\n",
       "      <th>streaming_movies</th>\n",
       "      <th>paperless_billing</th>\n",
       "      <th>monthly_charges</th>\n",
       "      <th>churn</th>\n",
       "      <th>contract_type</th>\n",
       "      <th>internet_service_type</th>\n",
       "      <th>payment_type</th>\n",
       "    </tr>\n",
       "  </thead>\n",
       "  <tbody>\n",
       "    <tr>\n",
       "      <th>0</th>\n",
       "      <td>3</td>\n",
       "      <td>1</td>\n",
       "      <td>3</td>\n",
       "      <td>Male</td>\n",
       "      <td>0</td>\n",
       "      <td>Yes</td>\n",
       "      <td>Yes</td>\n",
       "      <td>63</td>\n",
       "      <td>No</td>\n",
       "      <td>No phone service</td>\n",
       "      <td>...</td>\n",
       "      <td>Yes</td>\n",
       "      <td>Yes</td>\n",
       "      <td>No</td>\n",
       "      <td>No</td>\n",
       "      <td>No</td>\n",
       "      <td>39.35</td>\n",
       "      <td>No</td>\n",
       "      <td>Two year</td>\n",
       "      <td>DSL</td>\n",
       "      <td>Bank transfer (automatic)</td>\n",
       "    </tr>\n",
       "    <tr>\n",
       "      <th>1</th>\n",
       "      <td>4</td>\n",
       "      <td>1</td>\n",
       "      <td>3</td>\n",
       "      <td>Male</td>\n",
       "      <td>0</td>\n",
       "      <td>Yes</td>\n",
       "      <td>Yes</td>\n",
       "      <td>54</td>\n",
       "      <td>Yes</td>\n",
       "      <td>Yes</td>\n",
       "      <td>...</td>\n",
       "      <td>No</td>\n",
       "      <td>Yes</td>\n",
       "      <td>No</td>\n",
       "      <td>No</td>\n",
       "      <td>Yes</td>\n",
       "      <td>65.65</td>\n",
       "      <td>No</td>\n",
       "      <td>Two year</td>\n",
       "      <td>DSL</td>\n",
       "      <td>Credit card (automatic)</td>\n",
       "    </tr>\n",
       "    <tr>\n",
       "      <th>2</th>\n",
       "      <td>2</td>\n",
       "      <td>1</td>\n",
       "      <td>2</td>\n",
       "      <td>Male</td>\n",
       "      <td>0</td>\n",
       "      <td>Yes</td>\n",
       "      <td>No</td>\n",
       "      <td>13</td>\n",
       "      <td>Yes</td>\n",
       "      <td>Yes</td>\n",
       "      <td>...</td>\n",
       "      <td>Yes</td>\n",
       "      <td>No</td>\n",
       "      <td>Yes</td>\n",
       "      <td>Yes</td>\n",
       "      <td>Yes</td>\n",
       "      <td>75.30</td>\n",
       "      <td>Yes</td>\n",
       "      <td>One year</td>\n",
       "      <td>DSL</td>\n",
       "      <td>Mailed check</td>\n",
       "    </tr>\n",
       "    <tr>\n",
       "      <th>3</th>\n",
       "      <td>4</td>\n",
       "      <td>1</td>\n",
       "      <td>1</td>\n",
       "      <td>Female</td>\n",
       "      <td>0</td>\n",
       "      <td>No</td>\n",
       "      <td>No</td>\n",
       "      <td>28</td>\n",
       "      <td>Yes</td>\n",
       "      <td>Yes</td>\n",
       "      <td>...</td>\n",
       "      <td>No</td>\n",
       "      <td>Yes</td>\n",
       "      <td>No</td>\n",
       "      <td>No</td>\n",
       "      <td>Yes</td>\n",
       "      <td>54.90</td>\n",
       "      <td>No</td>\n",
       "      <td>Month-to-month</td>\n",
       "      <td>DSL</td>\n",
       "      <td>Credit card (automatic)</td>\n",
       "    </tr>\n",
       "    <tr>\n",
       "      <th>4</th>\n",
       "      <td>3</td>\n",
       "      <td>1</td>\n",
       "      <td>2</td>\n",
       "      <td>Female</td>\n",
       "      <td>0</td>\n",
       "      <td>Yes</td>\n",
       "      <td>No</td>\n",
       "      <td>40</td>\n",
       "      <td>Yes</td>\n",
       "      <td>Yes</td>\n",
       "      <td>...</td>\n",
       "      <td>No</td>\n",
       "      <td>No</td>\n",
       "      <td>Yes</td>\n",
       "      <td>No</td>\n",
       "      <td>No</td>\n",
       "      <td>63.90</td>\n",
       "      <td>No</td>\n",
       "      <td>One year</td>\n",
       "      <td>DSL</td>\n",
       "      <td>Bank transfer (automatic)</td>\n",
       "    </tr>\n",
       "  </tbody>\n",
       "</table>\n",
       "<p>5 rows × 22 columns</p>\n",
       "</div>"
      ],
      "text/plain": [
       "   payment_type_id  internet_service_type_id  contract_type_id  gender  \\\n",
       "0                3                         1                 3    Male   \n",
       "1                4                         1                 3    Male   \n",
       "2                2                         1                 2    Male   \n",
       "3                4                         1                 1  Female   \n",
       "4                3                         1                 2  Female   \n",
       "\n",
       "   senior_citizen partner dependents  tenure phone_service    multiple_lines  \\\n",
       "0               0     Yes        Yes      63            No  No phone service   \n",
       "1               0     Yes        Yes      54           Yes               Yes   \n",
       "2               0     Yes         No      13           Yes               Yes   \n",
       "3               0      No         No      28           Yes               Yes   \n",
       "4               0     Yes         No      40           Yes               Yes   \n",
       "\n",
       "   ... device_protection tech_support streaming_tv streaming_movies  \\\n",
       "0  ...               Yes          Yes           No               No   \n",
       "1  ...                No          Yes           No               No   \n",
       "2  ...               Yes           No          Yes              Yes   \n",
       "3  ...                No          Yes           No               No   \n",
       "4  ...                No           No          Yes               No   \n",
       "\n",
       "  paperless_billing monthly_charges churn   contract_type  \\\n",
       "0                No           39.35    No        Two year   \n",
       "1               Yes           65.65    No        Two year   \n",
       "2               Yes           75.30   Yes        One year   \n",
       "3               Yes           54.90    No  Month-to-month   \n",
       "4                No           63.90    No        One year   \n",
       "\n",
       "  internet_service_type               payment_type  \n",
       "0                   DSL  Bank transfer (automatic)  \n",
       "1                   DSL    Credit card (automatic)  \n",
       "2                   DSL               Mailed check  \n",
       "3                   DSL    Credit card (automatic)  \n",
       "4                   DSL  Bank transfer (automatic)  \n",
       "\n",
       "[5 rows x 22 columns]"
      ]
     },
     "execution_count": 3,
     "metadata": {},
     "output_type": "execute_result"
    }
   ],
   "source": [
    "#drop out any redundant, excessively empty, or bad columns\n",
    "df = df.drop(columns=['total_charges','customer_id'])\n",
    "df.head()"
   ]
  },
  {
   "cell_type": "code",
   "execution_count": 4,
   "id": "8a5a9dac",
   "metadata": {},
   "outputs": [],
   "source": [
    "# encode categorical values:                                      \n",
    "df = pd.concat(\n",
    "    [df, pd.get_dummies(df[['gender', 'partner', 'dependents', 'phone_service',\n",
    "       'paperless_billing', 'churn']],\n",
    "                    drop_first=True)], axis=1)"
   ]
  },
  {
   "cell_type": "code",
   "execution_count": 5,
   "id": "dfaa22fb",
   "metadata": {},
   "outputs": [],
   "source": [
    "# SPLIT\n",
    "\n",
    "def split_telco_data(df, target='churn'):\n",
    "    '''\n",
    "    split data will split data based on \n",
    "    the values present in a cleaned version\n",
    "    \n",
    "    '''\n",
    "    train_val, test = train_test_split(df,\n",
    "                                   train_size=0.8,\n",
    "                                   random_state=2013,\n",
    "                                   stratify=df[target])\n",
    "    train, validate = train_test_split(train_val,\n",
    "                                   train_size=0.7,\n",
    "                                   random_state=2013,\n",
    "                                   stratify=train_val[target])\n",
    "    return train, validate, test"
   ]
  },
  {
   "cell_type": "code",
   "execution_count": 6,
   "id": "d6170010",
   "metadata": {},
   "outputs": [],
   "source": [
    "train, validate, test = split_telco_data(df,target='churn')"
   ]
  },
  {
   "cell_type": "code",
   "execution_count": 7,
   "id": "69dd39eb",
   "metadata": {},
   "outputs": [
    {
     "data": {
      "text/plain": [
       "((3943, 28), (1691, 28), (1409, 28))"
      ]
     },
     "execution_count": 7,
     "metadata": {},
     "output_type": "execute_result"
    }
   ],
   "source": [
    "train.shape, validate.shape, test.shape"
   ]
  },
  {
   "cell_type": "code",
   "execution_count": null,
   "id": "dd3f79e4",
   "metadata": {},
   "outputs": [],
   "source": [
    "train.info()"
   ]
  },
  {
   "cell_type": "code",
   "execution_count": null,
   "id": "05109144",
   "metadata": {},
   "outputs": [],
   "source": [
    "for col in train.columns:\n",
    "    print(train[col].value_counts(normalize=True))"
   ]
  },
  {
   "cell_type": "markdown",
   "id": "2c57c1e3",
   "metadata": {},
   "source": [
    "#### DF STUFF No RUN"
   ]
  },
  {
   "cell_type": "code",
   "execution_count": null,
   "id": "b64f5aff",
   "metadata": {},
   "outputs": [],
   "source": []
  },
  {
   "cell_type": "markdown",
   "id": "055afd31",
   "metadata": {},
   "source": [
    "#### TRAIN STUFF Yes RUN"
   ]
  },
  {
   "cell_type": "code",
   "execution_count": 8,
   "id": "1543776f",
   "metadata": {},
   "outputs": [],
   "source": [
    "cat_cols, cat_cols_e, num_cols = [], [], []\n",
    "for col in train.columns:\n",
    "    if train[col].dtype == 'O':\n",
    "        cat_cols.append(col)\n",
    "    else:\n",
    "        if train[col].nunique() < 10:\n",
    "            cat_cols_e.append(col)\n",
    "        else:\n",
    "            num_cols.append(col)"
   ]
  },
  {
   "cell_type": "code",
   "execution_count": null,
   "id": "1cdbdcc9",
   "metadata": {},
   "outputs": [],
   "source": [
    "cat_cols"
   ]
  },
  {
   "cell_type": "code",
   "execution_count": null,
   "id": "12cd45af",
   "metadata": {},
   "outputs": [],
   "source": [
    "cat_cols_e"
   ]
  },
  {
   "cell_type": "code",
   "execution_count": 9,
   "id": "89691674",
   "metadata": {},
   "outputs": [
    {
     "name": "stdout",
     "output_type": "stream",
     "text": [
      "Univariate assessment of feature gender:\n"
     ]
    },
    {
     "data": {
      "image/png": "[encoded data removed]",
      "text/plain": [
       "<Figure size 640x480 with 1 Axes>"
      ]
     },
     "metadata": {},
     "output_type": "display_data"
    },
    {
     "name": "stdout",
     "output_type": "stream",
     "text": [
      "        gender    gender\n",
      "Male      1997  0.506467\n",
      "Female    1946  0.493533\n",
      "Univariate assessment of feature partner:\n"
     ]
    },
    {
     "data": {
      "image/png": "[encoded data removed]",
      "text/plain": [
       "<Figure size 640x480 with 1 Axes>"
      ]
     },
     "metadata": {},
     "output_type": "display_data"
    },
    {
     "name": "stdout",
     "output_type": "stream",
     "text": [
      "     partner   partner\n",
      "No      2033  0.515597\n",
      "Yes     1910  0.484403\n",
      "Univariate assessment of feature dependents:\n"
     ]
    },
    {
     "data": {
      "image/png": "[encoded data removed]",
      "text/plain": [
       "<Figure size 640x480 with 1 Axes>"
      ]
     },
     "metadata": {},
     "output_type": "display_data"
    },
    {
     "name": "stdout",
     "output_type": "stream",
     "text": [
      "     dependents  dependents\n",
      "No         2768    0.702004\n",
      "Yes        1175    0.297996\n",
      "Univariate assessment of feature phone_service:\n"
     ]
    },
    {
     "data": {
      "image/png": "[encoded data removed]",
      "text/plain": [
       "<Figure size 640x480 with 1 Axes>"
      ]
     },
     "metadata": {},
     "output_type": "display_data"
    },
    {
     "name": "stdout",
     "output_type": "stream",
     "text": [
      "     phone_service  phone_service\n",
      "Yes           3564        0.90388\n",
      "No             379        0.09612\n",
      "Univariate assessment of feature multiple_lines:\n"
     ]
    },
    {
     "data": {
      "image/png": "[encoded data removed]",
      "text/plain": [
       "<Figure size 640x480 with 1 Axes>"
      ]
     },
     "metadata": {},
     "output_type": "display_data"
    },
    {
     "name": "stdout",
     "output_type": "stream",
     "text": [
      "                  multiple_lines  multiple_lines\n",
      "No                          1912         0.48491\n",
      "Yes                         1652         0.41897\n",
      "No phone service             379         0.09612\n",
      "Univariate assessment of feature online_security:\n"
     ]
    },
    {
     "data": {
      "image/png": "[encoded data removed]",
      "text/plain": [
       "<Figure size 640x480 with 1 Axes>"
      ]
     },
     "metadata": {},
     "output_type": "display_data"
    },
    {
     "name": "stdout",
     "output_type": "stream",
     "text": [
      "                     online_security  online_security\n",
      "No                              1929         0.489221\n",
      "Yes                             1149         0.291402\n",
      "No internet service              865         0.219376\n",
      "Univariate assessment of feature online_backup:\n"
     ]
    },
    {
     "data": {
      "image/png": "[encoded data removed]",
      "text/plain": [
       "<Figure size 640x480 with 1 Axes>"
      ]
     },
     "metadata": {},
     "output_type": "display_data"
    },
    {
     "name": "stdout",
     "output_type": "stream",
     "text": [
      "                     online_backup  online_backup\n",
      "No                            1726       0.437738\n",
      "Yes                           1352       0.342886\n",
      "No internet service            865       0.219376\n",
      "Univariate assessment of feature device_protection:\n"
     ]
    },
    {
     "data": {
      "image/png": "[encoded data removed]",
      "text/plain": [
       "<Figure size 640x480 with 1 Axes>"
      ]
     },
     "metadata": {},
     "output_type": "display_data"
    },
    {
     "name": "stdout",
     "output_type": "stream",
     "text": [
      "                     device_protection  device_protection\n",
      "No                                1724           0.437231\n",
      "Yes                               1354           0.343393\n",
      "No internet service                865           0.219376\n",
      "Univariate assessment of feature tech_support:\n"
     ]
    },
    {
     "data": {
      "image/png": "[encoded data removed]",
      "text/plain": [
       "<Figure size 640x480 with 1 Axes>"
      ]
     },
     "metadata": {},
     "output_type": "display_data"
    },
    {
     "name": "stdout",
     "output_type": "stream",
     "text": [
      "                     tech_support  tech_support\n",
      "No                           1942      0.492518\n",
      "Yes                          1136      0.288106\n",
      "No internet service           865      0.219376\n",
      "Univariate assessment of feature streaming_tv:\n"
     ]
    },
    {
     "data": {
      "image/png": "[encoded data removed]",
      "text/plain": [
       "<Figure size 640x480 with 1 Axes>"
      ]
     },
     "metadata": {},
     "output_type": "display_data"
    },
    {
     "name": "stdout",
     "output_type": "stream",
     "text": [
      "                     streaming_tv  streaming_tv\n",
      "No                           1583      0.401471\n",
      "Yes                          1495      0.379153\n",
      "No internet service           865      0.219376\n",
      "Univariate assessment of feature streaming_movies:\n"
     ]
    },
    {
     "data": {
      "image/png": "[encoded data removed]",
      "text/plain": [
       "<Figure size 640x480 with 1 Axes>"
      ]
     },
     "metadata": {},
     "output_type": "display_data"
    },
    {
     "name": "stdout",
     "output_type": "stream",
     "text": [
      "                     streaming_movies  streaming_movies\n",
      "No                               1545          0.391834\n",
      "Yes                              1533          0.388790\n",
      "No internet service               865          0.219376\n",
      "Univariate assessment of feature paperless_billing:\n"
     ]
    },
    {
     "data": {
      "image/png": "[encoded data removed]",
      "text/plain": [
       "<Figure size 640x480 with 1 Axes>"
      ]
     },
     "metadata": {},
     "output_type": "display_data"
    },
    {
     "name": "stdout",
     "output_type": "stream",
     "text": [
      "     paperless_billing  paperless_billing\n",
      "Yes               2338            0.59295\n",
      "No                1605            0.40705\n",
      "Univariate assessment of feature churn:\n"
     ]
    },
    {
     "data": {
      "image/png": "[encoded data removed]",
      "text/plain": [
       "<Figure size 640x480 with 1 Axes>"
      ]
     },
     "metadata": {},
     "output_type": "display_data"
    },
    {
     "name": "stdout",
     "output_type": "stream",
     "text": [
      "     churn    churn\n",
      "No    2897  0.73472\n",
      "Yes   1046  0.26528\n",
      "Univariate assessment of feature contract_type:\n"
     ]
    },
    {
     "data": {
      "image/png": "[encoded data removed]",
      "text/plain": [
       "<Figure size 640x480 with 1 Axes>"
      ]
     },
     "metadata": {},
     "output_type": "display_data"
    },
    {
     "name": "stdout",
     "output_type": "stream",
     "text": [
      "                contract_type  contract_type\n",
      "Month-to-month           2161       0.548060\n",
      "Two year                  969       0.245752\n",
      "One year                  813       0.206188\n",
      "Univariate assessment of feature internet_service_type:\n"
     ]
    },
    {
     "data": {
      "image/png": "[encoded data removed]",
      "text/plain": [
       "<Figure size 640x480 with 1 Axes>"
      ]
     },
     "metadata": {},
     "output_type": "display_data"
    },
    {
     "name": "stdout",
     "output_type": "stream",
     "text": [
      "             internet_service_type  internet_service_type\n",
      "Fiber optic                   1755               0.445093\n",
      "DSL                           1323               0.335531\n",
      "None                           865               0.219376\n",
      "Univariate assessment of feature payment_type:\n"
     ]
    },
    {
     "data": {
      "image/png": "[encoded data removed]",
      "text/plain": [
       "<Figure size 640x480 with 1 Axes>"
      ]
     },
     "metadata": {},
     "output_type": "display_data"
    },
    {
     "name": "stdout",
     "output_type": "stream",
     "text": [
      "                           payment_type  payment_type\n",
      "Electronic check                   1361      0.345169\n",
      "Bank transfer (automatic)           880      0.223180\n",
      "Mailed check                        870      0.220644\n",
      "Credit card (automatic)             832      0.211007\n"
     ]
    }
   ],
   "source": [
    "#THIS IS FOR TRAIN\n",
    "for col in cat_cols:\n",
    "    print(f'Univariate assessment of feature {col}:')\n",
    "    sns.countplot(data=train, x=col)\n",
    "    plt.show()\n",
    "    print(\n",
    "        pd.concat([train[col].value_counts(),\n",
    "        train[col].value_counts(normalize=True)],\n",
    "             axis=1))"
   ]
  },
  {
   "cell_type": "code",
   "execution_count": null,
   "id": "589917d9",
   "metadata": {},
   "outputs": [],
   "source": [
    "# # THIS IS FOR DF\n",
    "# for col in cat_cols:\n",
    "#     print(f'Univariate assessment of feature {col}:')\n",
    "#     sns.countplot(data=df, x=col)\n",
    "#     plt.show()\n",
    "#     print(\n",
    "#         pd.concat([df[col].value_counts(),\n",
    "#         df[col].value_counts(normalize=True)],\n",
    "#              axis=1))"
   ]
  },
  {
   "cell_type": "code",
   "execution_count": null,
   "id": "cef81676",
   "metadata": {},
   "outputs": [],
   "source": []
  },
  {
   "cell_type": "code",
   "execution_count": null,
   "id": "00f9e3c5",
   "metadata": {},
   "outputs": [],
   "source": [
    "sns.barplot(y='senior_citizen',x='churn',data=train)\n",
    "plt.show()"
   ]
  },
  {
   "cell_type": "code",
   "execution_count": null,
   "id": "2f81c265",
   "metadata": {},
   "outputs": [],
   "source": []
  },
  {
   "cell_type": "code",
   "execution_count": null,
   "id": "41b4ae1e",
   "metadata": {},
   "outputs": [],
   "source": [
    "# Lets Run some CHi2 Tests:\n",
    "\n",
    "#CONTRACT TYPE\n",
    "train[['contract_type','churn']]\n",
    "\n",
    "df_contract_x =pd.crosstab(train['contract_type'],train['churn'])\n",
    "df_contract_x"
   ]
  },
  {
   "cell_type": "code",
   "execution_count": null,
   "id": "ff57ae2a",
   "metadata": {
    "scrolled": false
   },
   "outputs": [],
   "source": [
    "stats.chi2_contingency(df_contract_x)"
   ]
  },
  {
   "cell_type": "code",
   "execution_count": null,
   "id": "7f07c05e",
   "metadata": {},
   "outputs": [],
   "source": [
    "# Lets Run some CHi2 Tests:\n",
    "\n",
    "#DEPENDENTS\n",
    "train[['dependents','churn']]\n",
    "\n",
    "df_dependents_x =pd.crosstab(train['dependents'],train['churn'],margins=True)\n",
    "df_dependents_x"
   ]
  },
  {
   "cell_type": "code",
   "execution_count": null,
   "id": "af1009c5",
   "metadata": {
    "scrolled": false
   },
   "outputs": [],
   "source": [
    "stats.chi2_contingency(df_dependents_x)"
   ]
  },
  {
   "cell_type": "code",
   "execution_count": null,
   "id": "16cff4c1",
   "metadata": {},
   "outputs": [],
   "source": [
    "# Lets Run some CHi2 Tests:\n",
    "\n",
    "#PAPERLESS\n",
    "train[['paperless_billing','churn']]\n",
    "\n",
    "df_paperless_x =pd.crosstab(train['paperless_billing'],train['churn'])\n",
    "df_paperless_x"
   ]
  },
  {
   "cell_type": "code",
   "execution_count": null,
   "id": "03eb20a4",
   "metadata": {
    "scrolled": false
   },
   "outputs": [],
   "source": [
    "stats.chi2_contingency(df_paperless_x)"
   ]
  },
  {
   "cell_type": "code",
   "execution_count": null,
   "id": "0fb67002",
   "metadata": {},
   "outputs": [],
   "source": [
    "# Lets Run some CHi2 Tests:\n",
    "\n",
    "#GENDER\n",
    "train[['gender','churn']]\n",
    "\n",
    "df_gender_x =pd.crosstab(train['gender'],train['churn'])\n",
    "df_gender_x"
   ]
  },
  {
   "cell_type": "code",
   "execution_count": null,
   "id": "216e2f97",
   "metadata": {
    "scrolled": true
   },
   "outputs": [],
   "source": [
    "stats.chi2_contingency(df_gender_x)"
   ]
  },
  {
   "cell_type": "code",
   "execution_count": null,
   "id": "5ce46a09",
   "metadata": {},
   "outputs": [],
   "source": [
    "# Lets Run some CHi2 Tests:\n",
    "\n",
    "#SENIOR CITIZEN\n",
    "train[['senior_citizen','churn']]\n",
    "\n",
    "df_senior_x =pd.crosstab(train['senior_citizen'],train['churn'])\n",
    "df_senior_x"
   ]
  },
  {
   "cell_type": "code",
   "execution_count": null,
   "id": "f30f158c",
   "metadata": {
    "scrolled": false
   },
   "outputs": [],
   "source": [
    "stats.chi2_contingency(df_senior_x)"
   ]
  },
  {
   "cell_type": "code",
   "execution_count": null,
   "id": "c8ef8b06",
   "metadata": {},
   "outputs": [],
   "source": [
    "# Lets Run some CHi2 Tests:\n",
    "\n",
    "#PARTNER\n",
    "train[['partner','churn']]\n",
    "\n",
    "df_partner_x =pd.crosstab(train['partner'],train['churn'])\n",
    "df_partner_x"
   ]
  },
  {
   "cell_type": "code",
   "execution_count": null,
   "id": "dc668692",
   "metadata": {
    "scrolled": true
   },
   "outputs": [],
   "source": [
    "stats.chi2_contingency(df_partner_x)"
   ]
  },
  {
   "cell_type": "code",
   "execution_count": null,
   "id": "dd8f6757",
   "metadata": {},
   "outputs": [],
   "source": [
    "# Lets Run some CHi2 Tests:\n",
    "\n",
    "#PAYMENT_TYPE\n",
    "train[['payment_type','churn']]\n",
    "\n",
    "df_payment_x =pd.crosstab(train['payment_type'],train['churn'])\n",
    "df_payment_x"
   ]
  },
  {
   "cell_type": "code",
   "execution_count": null,
   "id": "d080b236",
   "metadata": {
    "scrolled": false
   },
   "outputs": [],
   "source": [
    "stats.chi2_contingency(df_payment_x)"
   ]
  },
  {
   "cell_type": "code",
   "execution_count": null,
   "id": "361ebfbc",
   "metadata": {},
   "outputs": [],
   "source": [
    "for col in cat_cols_e:\n",
    "    if col != 'churn':\n",
    "        sns.barplot(data=train,\n",
    "                    x=col,\n",
    "                    y = 'churn_Yes',\n",
    "                   ci=False)\n",
    "        plt.title(f'Customer CHURN based on {col}')\n",
    "        plt.axhline(train.churn_Yes.mean(),label='Overall Population Churn Rate: ~ 26%',color='red',linewidth=4)\n",
    "        plt.legend()\n",
    "        plt.show()"
   ]
  },
  {
   "cell_type": "code",
   "execution_count": null,
   "id": "21fa154b",
   "metadata": {},
   "outputs": [],
   "source": [
    "df_payment_x =pd.crosstab(train['payment_type'],train['churn'])\n",
    "df_payment_x"
   ]
  },
  {
   "cell_type": "code",
   "execution_count": null,
   "id": "c3bb5de1",
   "metadata": {},
   "outputs": [],
   "source": [
    "train.info()"
   ]
  },
  {
   "cell_type": "code",
   "execution_count": null,
   "id": "6bc38276",
   "metadata": {
    "scrolled": true
   },
   "outputs": [],
   "source": [
    "train_encoded.columns"
   ]
  },
  {
   "cell_type": "code",
   "execution_count": null,
   "id": "785e3527",
   "metadata": {},
   "outputs": [],
   "source": [
    "cat_cols2, num_cols2 = [], []\n",
    "for col in train_encoded.columns:\n",
    "    if train_encoded[col].dtype != 'O':\n",
    "        cat_cols2.append(col)\n",
    "    else:\n",
    "        if train[col].nunique() < 10:\n",
    "            cat_cols.append(col)\n",
    "        else:\n",
    "            num_cols.append(col)"
   ]
  },
  {
   "cell_type": "code",
   "execution_count": null,
   "id": "417c349c",
   "metadata": {},
   "outputs": [],
   "source": [
    "# filename = \"telco_new_train2013.csv\"\n",
    "# train.to_csv(filename,index=False)"
   ]
  },
  {
   "cell_type": "code",
   "execution_count": null,
   "id": "84b640c9",
   "metadata": {},
   "outputs": [],
   "source": [
    "sns.barplot(y='senior_citizen',x='churn',data=train_encoded)\n",
    "plt.show()"
   ]
  },
  {
   "cell_type": "code",
   "execution_count": null,
   "id": "acdd252a",
   "metadata": {},
   "outputs": [],
   "source": [
    "# sns.pairplot(train,hue='churn',corner=True)"
   ]
  },
  {
   "cell_type": "markdown",
   "id": "30912805",
   "metadata": {},
   "source": [
    "#### OK, DO THE THING..."
   ]
  },
  {
   "cell_type": "code",
   "execution_count": null,
   "id": "4016af92",
   "metadata": {},
   "outputs": [],
   "source": [
    "X_cols = cat_cols_e\n",
    "y_cols = 'churn_Yes'"
   ]
  },
  {
   "cell_type": "code",
   "execution_count": null,
   "id": "c87ecceb",
   "metadata": {
    "scrolled": true
   },
   "outputs": [],
   "source": [
    "X_cols.remove('churn_Yes')\n",
    "X_cols,y_cols"
   ]
  },
  {
   "cell_type": "code",
   "execution_count": null,
   "id": "3321b676",
   "metadata": {},
   "outputs": [],
   "source": [
    "# make the thing\n",
    "clf = DecisionTreeClassifier()"
   ]
  },
  {
   "cell_type": "code",
   "execution_count": null,
   "id": "3b755cb8",
   "metadata": {},
   "outputs": [],
   "source": [
    "# whats the thing?\n",
    "clf"
   ]
  },
  {
   "cell_type": "code",
   "execution_count": null,
   "id": "6cd0de5e",
   "metadata": {},
   "outputs": [],
   "source": [
    "X_train = train[X_cols]\n",
    "y_train = train['churn']\n",
    "\n",
    "X_validate = validate[X_cols]\n",
    "y_validate = validate['churn']\n",
    "\n",
    "X_test = test[X_cols]\n",
    "y_test = test['churn']"
   ]
  },
  {
   "cell_type": "code",
   "execution_count": null,
   "id": "0afb4451",
   "metadata": {},
   "outputs": [],
   "source": [
    "# fit the thing:\n",
    "# note that i am not assigning clf.fit into anything\n",
    "# clf.fit changes the object itself,\n",
    "# which means its ready to use!\n",
    "clf.fit(X_train, y_train)"
   ]
  },
  {
   "cell_type": "code",
   "execution_count": null,
   "id": "f2f10b9a",
   "metadata": {},
   "outputs": [],
   "source": [
    "# use the thing!!\n",
    "model_1_preds = clf.predict(X_train)\n",
    "model_1_preds[:10]"
   ]
  },
  {
   "cell_type": "code",
   "execution_count": null,
   "id": "fba9230e",
   "metadata": {},
   "outputs": [],
   "source": [
    "# accuracy lil more like we saw before\n",
    "accuracy_score(y_train, model_1_preds)"
   ]
  },
  {
   "cell_type": "code",
   "execution_count": null,
   "id": "79fb637a",
   "metadata": {
    "scrolled": true
   },
   "outputs": [],
   "source": [
    "pd.crosstab(model_1_preds,y_train) # see the actual survived status is now columns"
   ]
  },
  {
   "cell_type": "code",
   "execution_count": null,
   "id": "33c52175",
   "metadata": {},
   "outputs": [],
   "source": [
    "# classification report:\n",
    "print(\n",
    "    classification_report(y_train,\n",
    "                      model_1_preds))"
   ]
  },
  {
   "cell_type": "code",
   "execution_count": null,
   "id": "86df390e",
   "metadata": {},
   "outputs": [],
   "source": [
    "model_1_proba = clf.predict_proba(X_train)\n",
    "model_1_proba[:10]"
   ]
  },
  {
   "cell_type": "code",
   "execution_count": null,
   "id": "7ba643b2",
   "metadata": {},
   "outputs": [],
   "source": [
    "print(f'''\n",
    "Performance in accuracy of Decision Tree 1 on training data:\n",
    "Accuracy (train): {clf.score(X_train, y_train)}\n",
    "Accuracy (validate): {round(clf.score(X_validate, y_validate), 5)}''')"
   ]
  },
  {
   "cell_type": "code",
   "execution_count": null,
   "id": "8b024f2e",
   "metadata": {},
   "outputs": [],
   "source": []
  },
  {
   "cell_type": "code",
   "execution_count": null,
   "id": "73a9c454",
   "metadata": {},
   "outputs": [],
   "source": [
    "from sklearn.ensemble import RandomForestClassifier\n",
    "\n",
    "# make the thing\n",
    "rf = RandomForestClassifier(n_estimators=25)\n",
    "# fit the thing\n",
    "# note: if we narrow down the feature in fit:\n",
    "rf.fit(X_train, y_train)\n",
    "# use the thing\n",
    "# we need to do it on predict as well!!\n",
    "rf1_preds = rf.predict(X_train)"
   ]
  },
  {
   "cell_type": "code",
   "execution_count": null,
   "id": "a2ec8ae5",
   "metadata": {
    "scrolled": true
   },
   "outputs": [],
   "source": [
    "pd.crosstab(rf1_preds,y_train) # see the actual survived status is now columns"
   ]
  },
  {
   "cell_type": "code",
   "execution_count": null,
   "id": "a9e8d1ef",
   "metadata": {},
   "outputs": [],
   "source": [
    "# classification report:\n",
    "print(\n",
    "    classification_report(y_train,\n",
    "                      rf1_preds))"
   ]
  },
  {
   "cell_type": "code",
   "execution_count": null,
   "id": "dccc11b8",
   "metadata": {},
   "outputs": [],
   "source": [
    "rf1_proba = rf.predict_proba(X_train)\n",
    "rf1_proba[:10]"
   ]
  },
  {
   "cell_type": "code",
   "execution_count": null,
   "id": "33ed7fb6",
   "metadata": {
    "scrolled": true
   },
   "outputs": [],
   "source": [
    "print(f'''\n",
    "Performance in accuracy of Random Forest 1 on training data:\n",
    "Accuracy (train): {rf.score(X_train, y_train)}\n",
    "Accuracy (validate): {round(rf.score(X_validate, y_validate), 5)}''')"
   ]
  },
  {
   "cell_type": "code",
   "execution_count": null,
   "id": "9f11ab2a",
   "metadata": {},
   "outputs": [],
   "source": [
    "# make the thing\n",
    "rf = RandomForestClassifier(n_estimators=101)\n",
    "# fit the thing\n",
    "# note: if we narrow down the feature in fit:\n",
    "rf.fit(X_train, y_train)\n",
    "# use the thing\n",
    "# we need to do it on predict as well!!\n",
    "rf2_preds = rf.predict(X_train)"
   ]
  },
  {
   "cell_type": "code",
   "execution_count": null,
   "id": "018d93bb",
   "metadata": {
    "scrolled": true
   },
   "outputs": [],
   "source": [
    "pd.crosstab(rf2_preds,y_train) # see the actual survived status is now columns"
   ]
  },
  {
   "cell_type": "code",
   "execution_count": null,
   "id": "40cb3da5",
   "metadata": {},
   "outputs": [],
   "source": [
    "# classification report:\n",
    "print(\n",
    "    classification_report(y_train,\n",
    "                      rf2_preds))"
   ]
  },
  {
   "cell_type": "code",
   "execution_count": null,
   "id": "5be08b72",
   "metadata": {},
   "outputs": [],
   "source": [
    "rf2_proba = rf.predict_proba(X_train)\n",
    "rf2_proba[:10]"
   ]
  },
  {
   "cell_type": "code",
   "execution_count": null,
   "id": "30fe99e0",
   "metadata": {},
   "outputs": [],
   "source": [
    "print(f'''\n",
    "Performance in accuracy of Random Forest 1 on training data:\n",
    "Accuracy (train): {rf.score(X_train, y_train)}\n",
    "Accuracy (validate): {round(rf.score(X_validate, y_validate), 5)}''')"
   ]
  },
  {
   "cell_type": "markdown",
   "id": "361238c5",
   "metadata": {},
   "source": [
    "#### OK, OPTIMIZE ..."
   ]
  },
  {
   "cell_type": "code",
   "execution_count": null,
   "id": "296a95c9",
   "metadata": {},
   "outputs": [],
   "source": []
  },
  {
   "cell_type": "code",
   "execution_count": null,
   "id": "9ea4d5ad",
   "metadata": {},
   "outputs": [],
   "source": []
  },
  {
   "cell_type": "code",
   "execution_count": null,
   "id": "c8df9c65",
   "metadata": {},
   "outputs": [],
   "source": [
    "# make the thing\n",
    "clf = DecisionTreeClassifier(min_samples_leaf=101)\n",
    "clf.fit(X_train, y_train)\n",
    "model_1_preds = clf.predict(X_train)\n",
    "model_1_preds[:10]"
   ]
  },
  {
   "cell_type": "code",
   "execution_count": null,
   "id": "b6db37f6",
   "metadata": {
    "scrolled": true
   },
   "outputs": [],
   "source": [
    "model_1_proba = clf.predict_proba(X_train)\n",
    "model_1_proba[:10]"
   ]
  },
  {
   "cell_type": "code",
   "execution_count": null,
   "id": "c5450860",
   "metadata": {
    "scrolled": false
   },
   "outputs": [],
   "source": [
    "pd.crosstab(model_1_preds,y_train) # see the actual survived status is now columns"
   ]
  },
  {
   "cell_type": "code",
   "execution_count": null,
   "id": "d51ec1e2",
   "metadata": {},
   "outputs": [],
   "source": [
    "# classification report:\n",
    "print(\n",
    "    classification_report(y_train,\n",
    "                      model_1_preds))"
   ]
  },
  {
   "cell_type": "code",
   "execution_count": null,
   "id": "5e0c663d",
   "metadata": {},
   "outputs": [],
   "source": [
    "print(f'''\n",
    "Performance in accuracy of Decision Tree 1 on training data:\n",
    "Accuracy (train): {clf.score(X_train, y_train)}\n",
    "Accuracy (validate): {round(clf.score(X_validate, y_validate), 5)}''')"
   ]
  },
  {
   "cell_type": "code",
   "execution_count": null,
   "id": "fd375bda",
   "metadata": {},
   "outputs": [],
   "source": []
  },
  {
   "cell_type": "code",
   "execution_count": null,
   "id": "97c47c30",
   "metadata": {},
   "outputs": [],
   "source": [
    "# make the thing\n",
    "clf = DecisionTreeClassifier(min_samples_leaf=51)\n",
    "clf.fit(X_train, y_train)\n",
    "model_2_preds = clf.predict(X_train)\n",
    "model_2_preds[:10]"
   ]
  },
  {
   "cell_type": "code",
   "execution_count": null,
   "id": "e23a7f7f",
   "metadata": {
    "scrolled": true
   },
   "outputs": [],
   "source": [
    "model_2_proba = clf.predict_proba(X_train)\n",
    "model_2_proba[:10]"
   ]
  },
  {
   "cell_type": "code",
   "execution_count": null,
   "id": "32952b4f",
   "metadata": {
    "scrolled": false
   },
   "outputs": [],
   "source": [
    "pd.crosstab(model_2_preds,y_train) # see the actual survived status is now columns"
   ]
  },
  {
   "cell_type": "code",
   "execution_count": null,
   "id": "c9163707",
   "metadata": {},
   "outputs": [],
   "source": [
    "# classification report:\n",
    "print(\n",
    "    classification_report(y_train,\n",
    "                      model_2_preds))"
   ]
  },
  {
   "cell_type": "code",
   "execution_count": null,
   "id": "d9e5d1f1",
   "metadata": {},
   "outputs": [],
   "source": [
    "print(f'''\n",
    "Performance in accuracy of Decision Tree 1 on training data:\n",
    "Accuracy (train): {clf.score(X_train, y_train)}\n",
    "Accuracy (validate): {round(clf.score(X_validate, y_validate), 5)}''')"
   ]
  },
  {
   "cell_type": "code",
   "execution_count": null,
   "id": "7835fe3c",
   "metadata": {},
   "outputs": [],
   "source": []
  },
  {
   "cell_type": "code",
   "execution_count": null,
   "id": "bd03d46a",
   "metadata": {},
   "outputs": [],
   "source": [
    "# make the thing\n",
    "rf = RandomForestClassifier(n_estimators=101,max_depth=4)\n",
    "# fit the thing\n",
    "# note: if we narrow down the feature in fit:\n",
    "rf.fit(X_train, y_train)\n",
    "# use the thing\n",
    "# we need to do it on predict as well!!\n",
    "rf3_preds = rf.predict(X_train)"
   ]
  },
  {
   "cell_type": "code",
   "execution_count": null,
   "id": "4352707e",
   "metadata": {
    "scrolled": false
   },
   "outputs": [],
   "source": [
    "pd.crosstab(rf3_preds,y_train) # see the actual survived status is now columns"
   ]
  },
  {
   "cell_type": "code",
   "execution_count": null,
   "id": "10d749f0",
   "metadata": {},
   "outputs": [],
   "source": [
    "# classification report:\n",
    "print(\n",
    "    classification_report(y_train,\n",
    "                      rf3_preds))"
   ]
  },
  {
   "cell_type": "code",
   "execution_count": null,
   "id": "fe8256c5",
   "metadata": {},
   "outputs": [],
   "source": [
    "rf3_proba = rf.predict_proba(X_train)\n",
    "rf3_proba[:10]"
   ]
  },
  {
   "cell_type": "code",
   "execution_count": null,
   "id": "b8b21c40",
   "metadata": {},
   "outputs": [],
   "source": [
    "print(f'''\n",
    "Performance in accuracy of Random Forest 1 on training data:\n",
    "Accuracy (train): {rf.score(X_train, y_train)}\n",
    "Accuracy (validate): {round(rf.score(X_validate, y_validate), 5)}''')"
   ]
  },
  {
   "cell_type": "code",
   "execution_count": null,
   "id": "4f8c7f83",
   "metadata": {},
   "outputs": [],
   "source": []
  },
  {
   "cell_type": "code",
   "execution_count": null,
   "id": "d6178e0b",
   "metadata": {},
   "outputs": [],
   "source": [
    "# make the thing\n",
    "rf = RandomForestClassifier(n_estimators=101,max_depth=2)\n",
    "# fit the thing\n",
    "# note: if we narrow down the feature in fit:\n",
    "rf.fit(X_train, y_train)\n",
    "# use the thing\n",
    "# we need to do it on predict as well!!\n",
    "rf4_preds = rf.predict(X_train)"
   ]
  },
  {
   "cell_type": "code",
   "execution_count": null,
   "id": "5c26ef7d",
   "metadata": {
    "scrolled": false
   },
   "outputs": [],
   "source": [
    "pd.crosstab(rf4_preds,y_train) # see the actual survived status is now columns"
   ]
  },
  {
   "cell_type": "code",
   "execution_count": null,
   "id": "853591b3",
   "metadata": {},
   "outputs": [],
   "source": [
    "# classification report:\n",
    "print(\n",
    "    classification_report(y_train,\n",
    "                      rf4_preds))"
   ]
  },
  {
   "cell_type": "code",
   "execution_count": null,
   "id": "96f5e566",
   "metadata": {},
   "outputs": [],
   "source": [
    "rf4_proba = rf.predict_proba(X_train)\n",
    "rf4_proba[:10]"
   ]
  },
  {
   "cell_type": "code",
   "execution_count": null,
   "id": "ad2ba564",
   "metadata": {},
   "outputs": [],
   "source": [
    "np.unique(rf4_preds,return_counts=True)"
   ]
  },
  {
   "cell_type": "code",
   "execution_count": null,
   "id": "6e4f6975",
   "metadata": {},
   "outputs": [],
   "source": [
    "print(f'''\n",
    "Performance in accuracy of Random Forest 1 on training data:\n",
    "Accuracy (train): {rf.score(X_train, y_train)}\n",
    "Accuracy (validate): {round(rf.score(X_validate, y_validate), 5)}''')"
   ]
  },
  {
   "cell_type": "markdown",
   "id": "9fc982b6",
   "metadata": {},
   "source": [
    "## CREATE A df to turn into a .csv titled PREDICTIONS with 3 cols"
   ]
  },
  {
   "cell_type": "code",
   "execution_count": null,
   "id": "4efbb0d8",
   "metadata": {},
   "outputs": [],
   "source": []
  },
  {
   "cell_type": "code",
   "execution_count": null,
   "id": "c22208d1",
   "metadata": {},
   "outputs": [],
   "source": []
  },
  {
   "cell_type": "code",
   "execution_count": null,
   "id": "491bc36f",
   "metadata": {},
   "outputs": [],
   "source": []
  },
  {
   "cell_type": "code",
   "execution_count": null,
   "id": "5527bf04",
   "metadata": {},
   "outputs": [],
   "source": []
  },
  {
   "cell_type": "code",
   "execution_count": null,
   "id": "4511e8cf",
   "metadata": {},
   "outputs": [],
   "source": []
  },
  {
   "cell_type": "code",
   "execution_count": null,
   "id": "ca5486ac",
   "metadata": {},
   "outputs": [],
   "source": []
  }
 ],
 "metadata": {
  "kernelspec": {
   "display_name": "Python 3 (ipykernel)",
   "language": "python",
   "name": "python3"
  },
  "language_info": {
   "codemirror_mode": {
    "name": "ipython",
    "version": 3
   },
   "file_extension": ".py",
   "mimetype": "text/x-python",
   "name": "python",
   "nbconvert_exporter": "python",
   "pygments_lexer": "ipython3",
   "version": "3.9.13"
  }
 },
 "nbformat": 4,
 "nbformat_minor": 5
}
